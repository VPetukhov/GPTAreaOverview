{
 "cells": [
  {
   "cell_type": "code",
   "execution_count": 1,
   "metadata": {
    "collapsed": true
   },
   "outputs": [],
   "source": [
    "import numpy as np\n",
    "from pandas import Series\n",
    "from sklearn.multioutput import MultiOutputClassifier\n",
    "from sklearn.linear_model import LogisticRegression\n",
    "import json\n",
    "import pandas as pd"
   ]
  },
  {
   "cell_type": "code",
   "execution_count": 2,
   "metadata": {
    "collapsed": false
   },
   "outputs": [],
   "source": [
    "df = pd.read_parquet(\"../data/scrna_seq_with_embs.pq\")\n",
    "df = df[~df.embedding.isna()]"
   ]
  },
  {
   "cell_type": "code",
   "execution_count": 8,
   "outputs": [
    {
     "data": {
      "text/plain": "scrna-seq                         829\nsingle-cell rna sequencing        646\nsingle-cell rna-seq               390\nsingle cell                       305\ngene expression                   289\n                                 ... \nimmune cell infiltration (ici)      1\nleft-sided                          1\nright-sided                         1\ntherapeutic sensitivity             1\nmitochondrial biogenesis            1\nName: keywords, Length: 14908, dtype: int64"
     },
     "execution_count": 8,
     "metadata": {},
     "output_type": "execute_result"
    }
   ],
   "source": [
    "df.keywords.explode().dropna().map(str.lower).value_counts()"
   ],
   "metadata": {
    "collapsed": false
   }
  },
  {
   "cell_type": "code",
   "execution_count": 79,
   "metadata": {
    "collapsed": false
   },
   "outputs": [],
   "source": [
    "df[['title', 'abstract']].iloc[:50].to_csv(\"../data/mturk.csv\", index=False)"
   ]
  },
  {
   "cell_type": "code",
   "execution_count": 82,
   "metadata": {
    "collapsed": false
   },
   "outputs": [],
   "source": [
    "df[['title', 'abstract']].iloc[:100].rename(columns={'title': 'INPUT:title', 'abstract': 'INPUT:abstract'}).to_csv(\"../data/mturk.tsv\", index=False, sep=\"\\t\")"
   ]
  },
  {
   "cell_type": "code",
   "execution_count": 85,
   "metadata": {
    "collapsed": false
   },
   "outputs": [
    {
     "data": {
      "text/plain": [
       "'Microglia are macrophages present in the brain that function as the primary and most important source of immune response in the central nervous system (CNS). Regardless of their multitasking role, our knowledge regarding their molecular heterogeneity is limited; due to technical restrictions, it is only possible to measure gene expression in cell populations, not individual cells, with the results reflecting average mRNA levels. Therefore, recent scientific approaches have focused on single-cell techniques such as single-cell RNA sequencing (scRNAseq), a powerful technique that enables the delineation of transcriptomic cell-to-cell differences, revealing subpopulations with distinct molecular and functional characteristics. Here, we summarize recent studies that focused on transcriptomic microglial subpopulation clustering and classify them into three distinct groups based on age, spatial distribution, and disease. Additionally, we cross-compare populations from different studies to identify expressional and functional overlaps between them.'"
      ]
     },
     "execution_count": 85,
     "metadata": {},
     "output_type": "execute_result"
    }
   ],
   "source": [
    "df[['title', 'abstract']].iloc[1000].abstract"
   ]
  },
  {
   "cell_type": "code",
   "execution_count": 4,
   "metadata": {
    "collapsed": false
   },
   "outputs": [],
   "source": [
    "with open(\"../data/labeled_test.json\") as f:\n",
    "    data = json.load(f)"
   ]
  },
  {
   "cell_type": "code",
   "execution_count": 5,
   "metadata": {
    "collapsed": false
   },
   "outputs": [],
   "source": [
    "all_labels = np.array(['biological', 'computational'])\n",
    "inp_samples = []\n",
    "inp_labels = []\n",
    "for d in data:\n",
    "    if len(d['annotations'][0]['result']) == 0:\n",
    "        continue\n",
    "\n",
    "    inp_samples.append(d['data']['embedding'])\n",
    "    choices = d['annotations'][0]['result'][0]['value']['choices']\n",
    "    inp_labels.append([a in choices for a in all_labels])\n",
    "\n",
    "inp_samples = np.array(inp_samples)"
   ]
  },
  {
   "cell_type": "code",
   "execution_count": 6,
   "metadata": {
    "collapsed": false
   },
   "outputs": [
    {
     "data": {
      "text/html": [
       "<style>#sk-container-id-1 {color: black;background-color: white;}#sk-container-id-1 pre{padding: 0;}#sk-container-id-1 div.sk-toggleable {background-color: white;}#sk-container-id-1 label.sk-toggleable__label {cursor: pointer;display: block;width: 100%;margin-bottom: 0;padding: 0.3em;box-sizing: border-box;text-align: center;}#sk-container-id-1 label.sk-toggleable__label-arrow:before {content: \"▸\";float: left;margin-right: 0.25em;color: #696969;}#sk-container-id-1 label.sk-toggleable__label-arrow:hover:before {color: black;}#sk-container-id-1 div.sk-estimator:hover label.sk-toggleable__label-arrow:before {color: black;}#sk-container-id-1 div.sk-toggleable__content {max-height: 0;max-width: 0;overflow: hidden;text-align: left;background-color: #f0f8ff;}#sk-container-id-1 div.sk-toggleable__content pre {margin: 0.2em;color: black;border-radius: 0.25em;background-color: #f0f8ff;}#sk-container-id-1 input.sk-toggleable__control:checked~div.sk-toggleable__content {max-height: 200px;max-width: 100%;overflow: auto;}#sk-container-id-1 input.sk-toggleable__control:checked~label.sk-toggleable__label-arrow:before {content: \"▾\";}#sk-container-id-1 div.sk-estimator input.sk-toggleable__control:checked~label.sk-toggleable__label {background-color: #d4ebff;}#sk-container-id-1 div.sk-label input.sk-toggleable__control:checked~label.sk-toggleable__label {background-color: #d4ebff;}#sk-container-id-1 input.sk-hidden--visually {border: 0;clip: rect(1px 1px 1px 1px);clip: rect(1px, 1px, 1px, 1px);height: 1px;margin: -1px;overflow: hidden;padding: 0;position: absolute;width: 1px;}#sk-container-id-1 div.sk-estimator {font-family: monospace;background-color: #f0f8ff;border: 1px dotted black;border-radius: 0.25em;box-sizing: border-box;margin-bottom: 0.5em;}#sk-container-id-1 div.sk-estimator:hover {background-color: #d4ebff;}#sk-container-id-1 div.sk-parallel-item::after {content: \"\";width: 100%;border-bottom: 1px solid gray;flex-grow: 1;}#sk-container-id-1 div.sk-label:hover label.sk-toggleable__label {background-color: #d4ebff;}#sk-container-id-1 div.sk-serial::before {content: \"\";position: absolute;border-left: 1px solid gray;box-sizing: border-box;top: 0;bottom: 0;left: 50%;z-index: 0;}#sk-container-id-1 div.sk-serial {display: flex;flex-direction: column;align-items: center;background-color: white;padding-right: 0.2em;padding-left: 0.2em;position: relative;}#sk-container-id-1 div.sk-item {position: relative;z-index: 1;}#sk-container-id-1 div.sk-parallel {display: flex;align-items: stretch;justify-content: center;background-color: white;position: relative;}#sk-container-id-1 div.sk-item::before, #sk-container-id-1 div.sk-parallel-item::before {content: \"\";position: absolute;border-left: 1px solid gray;box-sizing: border-box;top: 0;bottom: 0;left: 50%;z-index: -1;}#sk-container-id-1 div.sk-parallel-item {display: flex;flex-direction: column;z-index: 1;position: relative;background-color: white;}#sk-container-id-1 div.sk-parallel-item:first-child::after {align-self: flex-end;width: 50%;}#sk-container-id-1 div.sk-parallel-item:last-child::after {align-self: flex-start;width: 50%;}#sk-container-id-1 div.sk-parallel-item:only-child::after {width: 0;}#sk-container-id-1 div.sk-dashed-wrapped {border: 1px dashed gray;margin: 0 0.4em 0.5em 0.4em;box-sizing: border-box;padding-bottom: 0.4em;background-color: white;}#sk-container-id-1 div.sk-label label {font-family: monospace;font-weight: bold;display: inline-block;line-height: 1.2em;}#sk-container-id-1 div.sk-label-container {text-align: center;}#sk-container-id-1 div.sk-container {/* jupyter's `normalize.less` sets `[hidden] { display: none; }` but bootstrap.min.css set `[hidden] { display: none !important; }` so we also need the `!important` here to be able to override the default hidden behavior on the sphinx rendered scikit-learn.org. See: https://github.com/scikit-learn/scikit-learn/issues/21755 */display: inline-block !important;position: relative;}#sk-container-id-1 div.sk-text-repr-fallback {display: none;}</style><div id=\"sk-container-id-1\" class=\"sk-top-container\"><div class=\"sk-text-repr-fallback\"><pre>MultiOutputClassifier(estimator=LogisticRegression(C=100, n_jobs=4), n_jobs=4)</pre><b>In a Jupyter environment, please rerun this cell to show the HTML representation or trust the notebook. <br />On GitHub, the HTML representation is unable to render, please try loading this page with nbviewer.org.</b></div><div class=\"sk-container\" hidden><div class=\"sk-item sk-dashed-wrapped\"><div class=\"sk-label-container\"><div class=\"sk-label sk-toggleable\"><input class=\"sk-toggleable__control sk-hidden--visually\" id=\"sk-estimator-id-1\" type=\"checkbox\" ><label for=\"sk-estimator-id-1\" class=\"sk-toggleable__label sk-toggleable__label-arrow\">MultiOutputClassifier</label><div class=\"sk-toggleable__content\"><pre>MultiOutputClassifier(estimator=LogisticRegression(C=100, n_jobs=4), n_jobs=4)</pre></div></div></div><div class=\"sk-parallel\"><div class=\"sk-parallel-item\"><div class=\"sk-item\"><div class=\"sk-label-container\"><div class=\"sk-label sk-toggleable\"><input class=\"sk-toggleable__control sk-hidden--visually\" id=\"sk-estimator-id-2\" type=\"checkbox\" ><label for=\"sk-estimator-id-2\" class=\"sk-toggleable__label sk-toggleable__label-arrow\">estimator: LogisticRegression</label><div class=\"sk-toggleable__content\"><pre>LogisticRegression(C=100, n_jobs=4)</pre></div></div></div><div class=\"sk-serial\"><div class=\"sk-item\"><div class=\"sk-estimator sk-toggleable\"><input class=\"sk-toggleable__control sk-hidden--visually\" id=\"sk-estimator-id-3\" type=\"checkbox\" ><label for=\"sk-estimator-id-3\" class=\"sk-toggleable__label sk-toggleable__label-arrow\">LogisticRegression</label><div class=\"sk-toggleable__content\"><pre>LogisticRegression(C=100, n_jobs=4)</pre></div></div></div></div></div></div></div></div></div></div>"
      ],
      "text/plain": [
       "MultiOutputClassifier(estimator=LogisticRegression(C=100, n_jobs=4), n_jobs=4)"
      ]
     },
     "execution_count": 6,
     "metadata": {},
     "output_type": "execute_result"
    }
   ],
   "source": [
    "model = MultiOutputClassifier(estimator=LogisticRegression(C=100, n_jobs=4), n_jobs=4)\n",
    "model.fit(np.array(inp_samples), np.array(inp_labels))"
   ]
  },
  {
   "cell_type": "code",
   "execution_count": 60,
   "metadata": {
    "collapsed": false
   },
   "outputs": [],
   "source": [
    "all_embeddings = np.array(list(df.embedding.values))\n",
    "all_preds = [all_labels[m] for m in model.predict(all_embeddings)]\n",
    "all_scores = np.c_[[x.max(axis=1) for x in model.predict_proba(all_embeddings)]].min(axis=0)"
   ]
  },
  {
   "cell_type": "code",
   "execution_count": 56,
   "metadata": {
    "collapsed": false
   },
   "outputs": [],
   "source": [
    "inp_samples_adj = np.r_[inp_samples, np.array(list(df.embedding.loc[manual_labels.index].values))]\n",
    "inp_labels_adj = np.array(inp_labels + list(manual_labels.values))"
   ]
  },
  {
   "cell_type": "code",
   "execution_count": 58,
   "metadata": {
    "collapsed": false
   },
   "outputs": [],
   "source": [
    "model.fit(inp_samples_adj, inp_labels_adj);"
   ]
  },
  {
   "cell_type": "code",
   "execution_count": 64,
   "metadata": {
    "collapsed": false
   },
   "outputs": [
    {
     "data": {
      "text/plain": [
       "414"
      ]
     },
     "execution_count": 64,
     "metadata": {},
     "output_type": "execute_result"
    }
   ],
   "source": [
    "(all_scores < 0.51).sum()"
   ]
  },
  {
   "cell_type": "code",
   "execution_count": 41,
   "metadata": {
    "collapsed": false
   },
   "outputs": [],
   "source": [
    "manual_labels = Series({\n",
    "    2633: [1, 0],\n",
    "    5163: [1, 0],\n",
    "    5631: [1, 0],\n",
    "    2069: [1, 0],\n",
    "    7103: [0, 1],\n",
    "    1913: [1, 1],\n",
    "    6254: [1, 1],\n",
    "    6272: [1, 1],\n",
    "    6593: [0, 1],\n",
    "    7045: [1, 0],\n",
    "    ###\n",
    "    67: [1, 0],\n",
    "    9264: [1, 1],\n",
    "    3111: [0, 1],\n",
    "    5739: [1, 1],\n",
    "    8254: [1, 0],\n",
    "    909: [1, 1],\n",
    "    6327:\n",
    "})"
   ]
  },
  {
   "cell_type": "code",
   "execution_count": 63,
   "metadata": {
    "collapsed": false
   },
   "outputs": [
    {
     "name": "stdout",
     "output_type": "stream",
     "text": [
      "\n",
      "67 0.50\n",
      "Profiling Transcriptional Heterogeneity with Seq-Well S\n",
      "Seq-Well is a high-throughput, picowell-based single-cell RNA-seq technology that can be used to simultaneously profile the transcriptomes of thousands of cells (Gierahn et al. Nat Methods 14(4):395-398, 2017). Relative to its reverse-emulsion-droplet-based counterparts, Seq-Well addresses key cost, portability, and scalability limitations. Recently, we introduced an improved molecular biology for Seq-Well to enhance the information content that can be captured from individual cells using the platform. This update, which we call Seq-Well S\n",
      "\n",
      "9264 0.50\n",
      "Single cell analysis of the inner ear sensory organs.\n",
      "The inner ear is composed of a complex mixture of cells, which together allow organisms to hear and maintain balance. The cells in the inner ear, which undergo an extraordinary process of development, have only recently begun to be studied on an individual level. As it has recently become clear that individual cells, previously considered to be of uniform character, may differ dramatically from each other, the need to study cell-to-cell variation, along with distinct transcriptional and regulatory signatures, has taken hold in the scientific community. In conjunction with high-throughput technologies, attempts are underway to dissect the inter- and intra-cellular variability of different cell types and developmental states of the inner ear from a novel perspective. Single cell analysis of the inner ear sensory organs holds the promise of providing a significant boost in building an omics network that translates into a comprehensive understanding of the mechanisms of hearing and balance. These networks may uncover critical elements for trans-differentiation, regeneration and/or reprogramming, providing entry points for therapeutics of deafness and vestibular pathologies.\n",
      "\n",
      "3111 0.50\n",
      "Data-driven comparison of multiple high-dimensional single-cell expression profiles.\n",
      "Comparing multiple single-cell expression datasets such as cytometry and scRNA-seq data between case and control donors provides information to elucidate the mechanisms of disease. We propose a completely data-driven computational biological method for this task. This overcomes the challenges of conventional cellular subset-based comparisons and facilitates further analyses such as machine learning and gene set analysis of single-cell expression datasets.\n",
      "\n",
      "5739 0.50\n",
      "Human obstructive (postvasectomy) and nonobstructive azoospermia - Insights from scRNA-Seq and transcriptome analysis.\n",
      "A substantial number of male infertility is caused by azoospermia. However, the underlying etiology and the molecular basis remain largely unknown. Through single-cell (sc)RNA sequencing, we had analyzed testis biopsy samples from two patients with obstructive azoospermia (OA) and nonobstructive azoospermia (NOA). We found only somatic cells in the NOA samples and explored the transcriptional changes in Sertoli cells in response to a loss of interactions with germ cells. Moreover, we observed a germ cell population discrepancy between an OA (postvasectomy) patient and a healthy individual. We confirmed this observation in a secondary study with two datasets at GSM3526588 and GSE124263 for detailed analysis wherein the regulatory mechanisms at the transcriptional level were identified. These findings thus provide valuable information on human spermatogenesis, and we also identified insightful information for further research on reproduction-related diseases.\n",
      "\n",
      "8254 0.50\n",
      "T Helper Cell Cytokines Modulate Intestinal Stem Cell Renewal and Differentiation.\n",
      "In the small intestine, a niche of accessory cell types supports the generation of mature epithelial cell types from intestinal stem cells (ISCs). It is unclear, however, if and how immune cells in the niche affect ISC fate or the balance between self-renewal and differentiation. Here, we use single-cell RNA sequencing (scRNA-seq) to identify MHC class II (MHCII) machinery enrichment in two subsets of Lgr5\n",
      "\n",
      "909 0.50\n",
      "Spatiotemporal NF-κB dynamics encodes the position, amplitude, and duration of local immune inputs.\n",
      "Infected cells communicate through secreted signaling molecules like cytokines, which carry information about pathogens. How differences in cytokine secretion affect inflammatory signaling over space and how responding cells decode information from propagating cytokines are not understood. By computationally and experimentally studying NF-κB dynamics in cocultures of signal-sending cells (macrophages) and signal-receiving cells (fibroblasts), we find that cytokine signals are transmitted by wave-like propagation of NF-κB activity and create well-defined activation zones in responding cells. NF-κB dynamics in responding cells can simultaneously encode information about cytokine dose, duration, and distance to the cytokine source. Spatially resolved transcriptional analysis reveals that responding cells transmit local cytokine information to distance-specific proinflammatory gene expression patterns, creating \"gene expression zones.\" Despite single-cell variability, the size and duration of the signaling zone are tightly controlled by the macrophage secretion profile. Our results highlight how macrophages tune cytokine secretion to control signal transmission distance and how inflammatory signaling interprets these signals in space and time.\n",
      "\n",
      "6327 0.50\n",
      "Lineage-dependent gene expression programs influence the immune landscape of colorectal cancer.\n",
      "Immunotherapy for metastatic colorectal cancer is effective only for mismatch repair-deficient tumors with high microsatellite instability that demonstrate immune infiltration, suggesting that tumor cells can determine their immune microenvironment. To understand this cross-talk, we analyzed the transcriptome of 91,103 unsorted single cells from 23 Korean and 6 Belgian patients. Cancer cells displayed transcriptional features reminiscent of normal differentiation programs, and genetic alterations that apparently fostered immunosuppressive microenvironments directed by regulatory T cells, myofibroblasts and myeloid cells. Intercellular network reconstruction supported the association between cancer cell signatures and specific stromal or immune cell populations. Our collective view of the cellular landscape and intercellular interactions in colorectal cancer provide mechanistic information for the design of efficient immuno-oncology treatment strategies.\n",
      "\n",
      "3681 0.50\n",
      "Multifactorial Role of Mitochondria in Echinocandin Tolerance Revealed by Transcriptome Analysis of Drug-Tolerant Cells.\n",
      "Fungal infections cause significant mortality and morbidity worldwide, and the limited existing antifungal reservoir is further weakened by the emergence of strains resistant to echinocandins, a first line of antifungal therapy. Candida glabrata is an opportunistic fungal pathogen that rapidly develops mutations in the echinocandin drug target β-1,3-glucan synthase (GS), which are associated with drug resistance and clinical failure. Although echinocandins are considered fungicidal in \n",
      "\n",
      "942 0.50\n",
      "FastMix: a versatile data integration pipeline for cell type-specific biomarker inference.\n",
      "Flow cytometry (FCM) and transcription profiling are the two widely used assays in translational immunology research. However, there is no data integration pipeline for analyzing these two types of assays together with experiment variables for biomarker inference. Current FCM data analysis mainly relies on subjective manual gating analysis, which is difficult to be directly integrated with other automated computational methods. Existing deconvolutional analysis of bulk transcriptomics relies on predefined marker genes in the transcriptomics data, which are unavailable for novel cell types and does not utilize the FCM data that provide canonical phenotypic definitions of the cell types.\n",
      "We developed a novel analytics pipeline-FastMix-for computational immunology, which integrates flow cytometry, bulk transcriptomics and clinical covariates for identifying cell type-specific gene expression signatures and biomarker genes. FastMix addresses the 'large p, small n' problem in the gene expression and flow cytometry integration analysis via a linear mixed effects model (LMER) for both cross-sectional and longitudinal studies. Its novel moment-based estimator not only reduces bias in parameter estimation but also is more efficient than iterative optimization. The FastMix pipeline also includes a cutting-edge flow cytometry data analysis method-DAFi-for identifying cell populations of interest and their characteristics. Simulation studies showed that FastMix produced smaller type I/II errors than competing methods. Validation using real data of two vaccine studies showed that FastMix identified a consistent set of signature genes as in independent single-cell RNA-seq analysis, producing additional interesting findings.\n",
      "Source code of FastMix is publicly available at https://github.com/terrysun0302/FastMix.\n",
      "Supplementary data are available at Bioinformatics online.\n",
      "\n",
      "1377 0.50\n",
      "Identification of a differentiation-related prognostic nomogram based on single-cell RNA sequencing in clear cell renal cell carcinoma.\n",
      "Renal cell carcinoma (RCC) is a kidney cancer that is originated from the lined proximal convoluted tubule, and its major histological subtype is clear cell RCC (ccRCC). This study aimed to retrospectively analyze single-cell RNA sequencing (scRNA-seq) data from the Gene Expression Omnibus (GEO) database, to explore the correlation among the evolution of tumor microenvironment (TME), clinical outcomes, and potential immunotherapeutic responses in combination with bulk RNA-seq data from The Cancer Genome Atlas (TCGA) database, and to construct a differentiation-related genes (DRG)-based prognostic risk signature (PRS) and a nomogram to predict the prognosis of ccRCC patients. First, scRNA-seq data of ccRCC samples were systematically analyzed, and three subsets with distinct differentiation trajectories were identified. Then, ccRCC samples from TCGA database were divided into four DRG-based molecular subtypes, and it was revealed that the molecular subtypes were significantly correlated with prognosis, clinicopathological features, TME, and the expression levels of immune checkpoint genes (ICGs). A DRG-based PRS was constructed, and it was an independent prognostic factor, which could well predict the prognosis of ccRCC patients. Finally, we constructed a prognostic nomogram based on the PRS and clinicopathological characteristics, which exhibited a high accuracy and a robust predictive performance. This study highlighted the significance of trajectory differentiation of ccRCC cells and TME evolution in predicting clinical outcomes and potential immunotherapeutic responses of ccRCC patients, and the nomogram provided an intuitive and accurate method for predicting the prognosis of such patients.\n"
     ]
    }
   ],
   "source": [
    "for i in range(10):\n",
    "    ti = np.argsort(all_scores)[i]\n",
    "    print()\n",
    "    print(df.index[ti], f\"{all_scores[ti]:0.2f}\")\n",
    "    print(df.title.values[ti])\n",
    "    print(df.abstract.values[ti])"
   ]
  },
  {
   "cell_type": "code",
   "execution_count": 48,
   "metadata": {
    "collapsed": false
   },
   "outputs": [
    {
     "data": {
      "text/plain": [
       "array([0.33333342, 0.33333342, 0.33333342])"
      ]
     },
     "execution_count": 48,
     "metadata": {},
     "output_type": "execute_result"
    }
   ],
   "source": []
  },
  {
   "cell_type": "code",
   "execution_count": 10,
   "metadata": {
    "collapsed": false
   },
   "outputs": [
    {
     "data": {
      "text/plain": [
       "[['computational'], ['biological'], ['biological']]"
      ]
     },
     "execution_count": 10,
     "metadata": {},
     "output_type": "execute_result"
    }
   ],
   "source": [
    "[d['annotations'][0]['result'][0]['value']['choices'] for d in data if len(d['annotations'][0]['result']) > 0]"
   ]
  }
 ],
 "metadata": {
  "kernelspec": {
   "name": "gptareaoverview",
   "language": "python",
   "display_name": "GPTAreaOverview"
  },
  "language_info": {
   "codemirror_mode": {
    "name": "ipython",
    "version": 2
   },
   "file_extension": ".py",
   "mimetype": "text/x-python",
   "name": "python",
   "nbconvert_exporter": "python",
   "pygments_lexer": "ipython2",
   "version": "3.10.6 (main, Nov 10 2011, 15:00:00) [GCC 12.1.0]"
  },
  "vscode": {
   "interpreter": {
    "hash": "e7370f93d1d0cde622a1f8e1c04877d8463912d04d973331ad4851f04de6915a"
   }
  }
 },
 "nbformat": 4,
 "nbformat_minor": 0
}
