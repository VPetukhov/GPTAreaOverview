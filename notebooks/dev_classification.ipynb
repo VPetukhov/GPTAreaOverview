{
 "cells": [
  {
   "cell_type": "code",
   "execution_count": 1,
   "metadata": {
    "collapsed": true
   },
   "outputs": [],
   "source": [
    "import numpy as np\n",
    "import pandas as pd\n",
    "from pandas import DataFrame, Series\n",
    "import matplotlib.pyplot as plt\n",
    "import seaborn as sns\n",
    "from time import sleep\n",
    "\n",
    "sns.set_theme(style=\"whitegrid\")"
   ]
  },
  {
   "cell_type": "markdown",
   "metadata": {
    "collapsed": false
   },
   "source": [
    "## Load data"
   ]
  },
  {
   "cell_type": "code",
   "execution_count": 2,
   "metadata": {
    "collapsed": false
   },
   "outputs": [],
   "source": [
    "df = pd.read_parquet(\"../data/scrna_seq_with_embs.pq\")\n",
    "df = df[(~df.embedding.isna()) & (~df.keywords.isna())]\n",
    "df['pubmed_id'] = df.pubmed_id.map(lambda x: x.split(\"\\n\")[0]).astype(int)\n",
    "embs = np.concatenate([np.atleast_2d(x) for x in df.embedding.values])"
   ]
  },
  {
   "cell_type": "code",
   "execution_count": 3,
   "metadata": {
    "collapsed": false
   },
   "outputs": [
    {
     "data": {
      "text/plain": [
       "180"
      ]
     },
     "execution_count": 3,
     "metadata": {},
     "output_type": "execute_result"
    }
   ],
   "source": [
    "# comp_kws = [\"bioinformatics\", \"machine learning\", \"computational biology\", \"deep learning\"]\n",
    "comp_kws = [\"computational biology\", \"deep learning\", \"machine learning\"]\n",
    "comp_df = df[df.keywords.map(lambda kws: any([k.lower() in comp_kws for k in kws]))]\n",
    "comp_df.shape[0]"
   ]
  },
  {
   "cell_type": "code",
   "execution_count": 55,
   "metadata": {
    "collapsed": false
   },
   "outputs": [],
   "source": [
    "# for i in range(20):\n",
    "#     print(\", \".join(comp_df.keywords.values[i]))\n",
    "#     print(\"---\")\n",
    "#     print(comp_df.title.values[i])\n",
    "#     print(\"---\")\n",
    "#     print(comp_df.abstract.values[i])\n",
    "#     print()"
   ]
  },
  {
   "cell_type": "markdown",
   "metadata": {
    "collapsed": false
   },
   "source": [
    "## Generate Computational vs Bio labels with GPT-3"
   ]
  },
  {
   "cell_type": "code",
   "execution_count": 50,
   "metadata": {
    "collapsed": false
   },
   "outputs": [
    {
     "name": "stdout",
     "output_type": "stream",
     "text": [
      "The autoreload extension is already loaded. To reload it, use:\n",
      "  %reload_ext autoreload\n"
     ]
    }
   ],
   "source": [
    "%load_ext autoreload\n",
    "%autoreload 2\n",
    "\n",
    "import sys\n",
    "sys.path.append(\"..\")\n",
    "\n",
    "from src.scrape import query_openai\n",
    "\n",
    "import openai\n",
    "import os\n",
    "from tqdm.notebook import tqdm\n",
    "\n",
    "from dotenv import load_dotenv\n",
    "load_dotenv()\n",
    "\n",
    "openai.api_key = os.getenv(\"OPENAI_API_KEY\")"
   ]
  },
  {
   "cell_type": "code",
   "execution_count": 62,
   "metadata": {
    "collapsed": false
   },
   "outputs": [],
   "source": [
    "title_prompt_full = \"\"\"\n",
    "\"Microscopic image-based classification of adipocyte differentiation by machine learning.\"\n",
    "Q: Does this article propose a new computational method?\n",
    "A: Yes\n",
    "\n",
    "---\n",
    "\n",
    "\"Comprehensive multi-omics analysis of the m7G in pan-cancer from the perspective of predictive, preventive, and personalized medicine.\"\n",
    "Q: Does this article propose a new computational method?\n",
    "A: No\n",
    "\n",
    "---\n",
    "\n",
    "\"Single-cell transcriptomics identifies Keap1-Nrf2 regulated collective invasion in a\"\n",
    "Q: Does this article propose a new computational method?\n",
    "A: No\n",
    "\n",
    "---\n",
    "\n",
    "\"A Novel Algorithm for Feature Selection Using Penalized Regression with Applications to Single-Cell RNA Sequencing Data.\"\n",
    "Q: Does this article propose a new computational method?\n",
    "A: Yes\n",
    "\n",
    "---\n",
    "\n",
    "\"Delineating the transcriptional landscape and clonal diversity of virus-specific CD4\"\n",
    "Q: Does this article propose a new computational method?\n",
    "A: No\n",
    "\n",
    "---\n",
    "\n",
    "\"The performance of deep generative models for learning joint embeddings of single-cell multi-omics data.\"\n",
    "Q: Does this article propose a new computational method?\n",
    "A: No\n",
    "\n",
    "---\n",
    "\n",
    "\"Exploration of the underlying biological differences and targets in ovarian cancer patients with diverse immunotherapy response.\"\n",
    "Q: Does this article propose a new computational method?\n",
    "A: No\n",
    "\n",
    "---\n",
    "\n",
    "\"Glioma stem cell signature predicts the prognosis and the response to tumor treating fields treatment.\"\n",
    "Q: Does this article propose a new computational method?\n",
    "A: No\n",
    "\n",
    "\"{query}\"\n",
    "Q: Does this article propose a new computational method?\n",
    "A:\n",
    "\"\"\""
   ]
  },
  {
   "cell_type": "code",
   "execution_count": 35,
   "metadata": {
    "collapsed": false
   },
   "outputs": [],
   "source": [
    "prompt = \"\"\"\n",
    "Q: Does this article propose a new computational method? Answer Yes or No.\n",
    "```\n",
    "Recent advances in single-cell RNA sequencing (scRNA-seq) have accelerated the development of techniques to classify thousands of cells through transcriptome profiling. As more and more scRNA-seq data become available, supervised cell type classification methods using externally well-annotated source data become more popular than unsupervised clustering algorithms. However, accurate cellular annotation of single cell transcription data remains a significant challenge. Here, we propose a hybrid network structure called TransCluster, which uses linear discriminant analysis and a modified Transformer to enhance feature learning. It is a cell-type identification tool for single-cell transcriptomic maps. It shows high accuracy and robustness in many cell data sets of different human tissues. It is superior to other known methods in external test data set. To our knowledge, TransCluster is the first attempt to use Transformer for annotating cell types of scRNA-seq, which greatly improves the accuracy of cell-type identification.\n",
    "```\n",
    "A: Yes\n",
    "\n",
    "---\n",
    "\n",
    "Q: Does this article propose a new computational method? Answer Yes or No.\n",
    "```\n",
    "Apicobasal cell polarity loss is a founding event in epithelial-mesenchymal transition and epithelial tumorigenesis, yet how pathological polarity loss links to plasticity remains largely unknown. To understand the mechanisms and mediators regulating plasticity upon polarity loss, we performed single-cell RNA sequencing of\n",
    "In the body, most cells exhibit some form of spatial asymmetry: the compartments within the cell are not evenly distributed, thereby allowing the cells to know whether a surface is on the ‘outside’ or the ‘inside’ of a tissue or organ. In the cells of epithelial tissues, which line most of the cavities and the organs in the body, this asymmetry is known as apical-basal polarity. Maintaining apical-basal polarity in epithelial cells is one of the main barriers that stops cancer cells from invading other tissues, which is the first step of metastasis, the process through which cancer cells leave their tissue of our origin and spread to distant locations in the body. In the fruit fly\n",
    "```\n",
    "A: No\n",
    "\n",
    "---\n",
    "\n",
    "Q: Does this article propose a new computational method? Answer Yes or No.\n",
    "```\n",
    "Single-cell RNA sequencing (scRNA-seq) technologies offer unique opportunities for exploring heterogeneous cell populations. However, in-depth single-cell transcriptomic characterization of complex tissues often requires profiling tens to hundreds of thousands of cells. Such large numbers of cells represent an important hurdle for downstream analyses, interpretation and visualization.\n",
    "We develop a framework called SuperCell to merge highly similar cells into metacells and perform standard scRNA-seq data analyses at the metacell level. Our systematic benchmarking demonstrates that metacells not only preserve but often improve the results of downstream analyses including visualization, clustering, differential expression, cell type annotation, gene correlation, imputation, RNA velocity and data integration. By capitalizing on the redundancy inherent to scRNA-seq data, metacells significantly facilitate and accelerate the construction and interpretation of single-cell atlases, as demonstrated by the integration of 1.46 million cells from COVID-19 patients in less than two hours on a standard desktop.\n",
    "SuperCell is a framework to build and analyze metacells in a way that efficiently preserves the results of scRNA-seq data analyses while significantly accelerating and facilitating them.\n",
    "```\n",
    "A: Yes\n",
    "\n",
    "---\n",
    "\n",
    "Q: Does this article propose a new computational method? Answer Yes or No.\n",
    "```\n",
    "{query}\n",
    "```\n",
    "A:\n",
    "\"\"\""
   ]
  },
  {
   "cell_type": "code",
   "execution_count": 56,
   "metadata": {
    "collapsed": false
   },
   "outputs": [],
   "source": [
    "title_prompt = \"\"\"\n",
    "Q: Does this article propose a new computational method (yes or no)? \"Microscopic image-based classification of adipocyte differentiation by machine learning.\"\n",
    "A: Yes\n",
    "\n",
    "---\n",
    "\n",
    "Q: Does this article propose a new computational method (yes or no)? \"Comprehensive multi-omics analysis of the m7G in pan-cancer from the perspective of predictive, preventive, and personalized medicine.\"\n",
    "A: No\n",
    "\n",
    "---\n",
    "\n",
    "Q: Does this article propose a new computational method (yes or no)? \"Exploration of the underlying biological differences and targets in ovarian cancer patients with diverse immunotherapy response.\"\n",
    "A: No\n",
    "\n",
    "---\n",
    "\n",
    "Q: Does this article propose a new computational method (yes or no)? \"A Novel Algorithm for Feature Selection Using Penalized Regression with Applications to Single-Cell RNA Sequencing Data.\"\n",
    "A: Yes\n",
    "\n",
    "---\n",
    "\n",
    "Q: Does this article propose a new computational method (yes or no)? \"{query}\"\n",
    "A:\n",
    "\"\"\""
   ]
  },
  {
   "cell_type": "code",
   "execution_count": 72,
   "metadata": {
    "collapsed": false
   },
   "outputs": [
    {
     "data": {
      "application/vnd.jupyter.widget-view+json": {
       "model_id": "6dd3ddd4f9bd48878338ddaf3ee18856",
       "version_major": 2,
       "version_minor": 0
      },
      "text/plain": [
       "  0%|          | 0/180 [00:00<?, ?it/s]"
      ]
     },
     "metadata": {},
     "output_type": "display_data"
    },
    {
     "name": "stdout",
     "output_type": "stream",
     "text": [
      "Error in request:  The server is overloaded or not ready yet.\n"
     ]
    }
   ],
   "source": [
    "preds = []\n",
    "total_tokens = 0\n",
    "pbar = tqdm(comp_df.title.values)\n",
    "for title in pbar:\n",
    "    pbar.set_description(f\"Total tokens: {total_tokens}, price: ${total_tokens * 0.02 / 1000:0.3g}\")\n",
    "    pred, n_tokens = query_openai(\n",
    "        title_prompt_full.format(query=title),\n",
    "        req_type='completion',\n",
    "        model=\"text-davinci-003\",\n",
    "        temperature=0.1,\n",
    "        max_tokens=1,\n",
    "        frequency_penalty=0.75\n",
    "    )\n",
    "\n",
    "    preds.append(pred)\n",
    "    if pred is None:\n",
    "        continue\n",
    "\n",
    "    total_tokens += n_tokens"
   ]
  },
  {
   "cell_type": "code",
   "execution_count": 81,
   "metadata": {
    "collapsed": false
   },
   "outputs": [],
   "source": [
    "pred_df = comp_df[[\"title\", \"abstract\", \"embedding\"]].reset_index().join(DataFrame(dict(pred=preds)))\n",
    "pred_df.to_parquet(\"../data/gpt_labeled_data.pq\")"
   ]
  },
  {
   "cell_type": "code",
   "execution_count": 82,
   "metadata": {
    "collapsed": false
   },
   "outputs": [],
   "source": [
    "# for t in pred_df.title[pred_df.pred == \"Yes\"]:\n",
    "#     print(t)"
   ]
  },
  {
   "cell_type": "markdown",
   "metadata": {
    "collapsed": false
   },
   "source": [
    "## Predict Computational vs Bio for all articles"
   ]
  },
  {
   "cell_type": "markdown",
   "metadata": {
    "collapsed": false
   },
   "source": [
    "On a Paperspace notebook GaussianNB was the best with F-score of ~0.9."
   ]
  },
  {
   "cell_type": "code",
   "execution_count": 4,
   "metadata": {
    "collapsed": false
   },
   "outputs": [],
   "source": [
    "pred_df = pd.read_parquet(\"../data/gpt_labeled_data.pq\")"
   ]
  },
  {
   "cell_type": "code",
   "execution_count": 5,
   "metadata": {
    "collapsed": false
   },
   "outputs": [],
   "source": [
    "from sklearn.naive_bayes import GaussianNB\n",
    "\n",
    "labeled_embs = np.concatenate([np.atleast_2d(x) for x in pred_df.embedding.values])\n",
    "clf = GaussianNB(priors=[0.5, 0.5]).fit(labeled_embs, pred_df.pred == 'Yes')"
   ]
  },
  {
   "cell_type": "code",
   "execution_count": 6,
   "metadata": {
    "collapsed": false
   },
   "outputs": [
    {
     "data": {
      "image/png": "[encoded data removed]",
      "text/plain": [
       "<Figure size 640x480 with 1 Axes>"
      ]
     },
     "metadata": {},
     "output_type": "display_data"
    }
   ],
   "source": [
    "plt.hist(np.diff(clf.theta_, axis=0)[0] / np.sqrt(clf.var_.mean(axis=0)), bins=50);\n",
    "plt.xlabel(\"Inter-class Z-score per feature\");"
   ]
  },
  {
   "cell_type": "code",
   "execution_count": 7,
   "metadata": {
    "collapsed": false
   },
   "outputs": [
    {
     "data": {
      "text/plain": [
       "0.248"
      ]
     },
     "execution_count": 7,
     "metadata": {},
     "output_type": "execute_result"
    }
   ],
   "source": [
    "df[\"preds\"] = clf.predict(embs)\n",
    "round(df[\"preds\"].mean(), 3)"
   ]
  },
  {
   "cell_type": "code",
   "execution_count": 8,
   "metadata": {
    "collapsed": false
   },
   "outputs": [
    {
     "name": "stdout",
     "output_type": "stream",
     "text": [
      "doubletD: detecting doublets in single-cell DNA sequencing data.\n",
      "---\n",
      "While single-cell DNA sequencing (scDNA-seq) has enabled the study of intratumor heterogeneity at an unprecedented resolution, current technologies are error-prone and often result in doublets where two or more cells are mistaken for a single cell. Not only do doublets confound downstream analyses, but the increase in doublet rate is also a major bottleneck preventing higher throughput with current single-cell technologies. Although doublet detection and removal are standard practice in scRNA-seq data analysis, options for scDNA-seq data are limited. Current methods attempt to detect doublets while also performing complex downstream analyses tasks, leading to decreased efficiency and/or performance.\n",
      "We present doubletD, the first standalone method for detecting doublets in scDNA-seq data. Underlying our method is a simple maximum likelihood approach with a closed-form solution. We demonstrate the performance of doubletD on simulated data as well as real datasets, outperforming current methods for downstream analysis of scDNA-seq data that jointly infer doublets as well as standalone approaches for doublet detection in scRNA-seq data. Incorporating doubletD in scDNA-seq analysis pipelines will reduce complexity and lead to more accurate results.\n",
      "https://github.com/elkebir-group/doubletD.\n",
      "Supplementary data are available at Bioinformatics online.\n",
      "\n",
      "VIRTUS: a pipeline for comprehensive virus analysis from conventional RNA-seq data.\n",
      "---\n",
      "The possibility that RNA transcripts from clinical samples contain plenty of virus RNAs has not been pursued actively so far. We here developed a new tool for analyzing virus-transcribed mRNAs, not virus copy numbers, in the data of bulk and single-cell RNA-sequencing of human cells. Our pipeline, named VIRTUS (VIRal Transcript Usage Sensor), was able to detect 762 viruses including herpesviruses, retroviruses and even SARS-CoV-2 (COVID-19), and quantify their transcripts in the sequence data. This tool thus enabled simultaneously detecting infected cells, the composition of multiple viruses within the cell, and the endogenous host-gene expression profile of the cell. This bioinformatics method would be instrumental in addressing the possible effects of covertly infecting viruses on certain diseases and developing new treatments to target such viruses.\n",
      ": VIRTUS is implemented using Common Workflow Language and Docker under a CC-NC license. VIRTUS is freely available at https://github.com/yyoshiaki/VIRTUS.\n",
      "Supplementary data are available at Bioinformatics online.\n",
      "\n",
      "IRIS-FGM: an integrative single-cell RNA-Seq interpretation system for functional gene module analysis.\n",
      "---\n",
      "Single-cell RNA-Seq (scRNA-Seq) data is useful in discovering cell heterogeneity and signature genes in specific cell populations in cancer and other complex diseases. Specifically, the investigation of condition-specific functional gene modules (FGM) can help to understand interactive gene networks and complex biological processes in different cell clusters. QUBIC2 is recognized as one of the most efficient and effective biclustering tools for condition-specific FGM identification from scRNA-Seq data. However, its limited availability to a C implementation restricted its application to only a few downstream analysis functionalities. We developed an R package named IRIS-FGM (Integrative scRNA-Seq Interpretation System for Functional Gene Module analysis) to support the investigation of FGMs and cell clustering using scRNA-Seq data. Empowered by QUBIC2, IRIS-FGM can effectively identify condition-specific FGMs, predict cell types/clusters, uncover differentially expressed genes, and perform pathway enrichment analysis. It is noteworthy that IRIS-FGM can also take Seurat objects as input, facilitating easy integration with the existing analysis pipeline.\n",
      "IRIS-FGM is implemented in the R environment (as of version 3.6) with the source code freely available at https://github.com/BMEngineeR/IRISFGM.\n",
      "Supplementary data are available at Bioinformatics online.\n",
      "\n",
      "Detecting cell-type-specific allelic expression imbalance by integrative analysis of bulk and single-cell RNA sequencing data.\n",
      "---\n",
      "Allelic expression imbalance (AEI), quantified by the relative expression of two alleles of a gene in a diploid organism, can help explain phenotypic variations among individuals. Traditional methods detect AEI using bulk RNA sequencing (RNA-seq) data, a data type that averages out cell-to-cell heterogeneity in gene expression across cell types. Since the patterns of AEI may vary across different cell types, it is desirable to study AEI in a cell-type-specific manner. Although this can be achieved by single-cell RNA sequencing (scRNA-seq), it requires full-length transcript to be sequenced in single cells of a large number of individuals, which are still cost prohibitive to generate. To overcome this limitation and utilize the vast amount of existing disease relevant bulk tissue RNA-seq data, we developed BSCET, which enables the characterization of cell-type-specific AEI in bulk RNA-seq data by integrating cell type composition information inferred from a small set of scRNA-seq samples, possibly obtained from an external dataset. By modeling covariate effect, BSCET can also detect genes whose cell-type-specific AEI are associated with clinical factors. Through extensive benchmark evaluations, we show that BSCET correctly detected genes with cell-type-specific AEI and differential AEI between healthy and diseased samples using bulk RNA-seq data. BSCET also uncovered cell-type-specific AEIs that were missed in bulk data analysis when the directions of AEI are opposite in different cell types. We further applied BSCET to two pancreatic islet bulk RNA-seq datasets, and detected genes showing cell-type-specific AEI that are related to the progression of type 2 diabetes. Since bulk RNA-seq data are easily accessible, BSCET provides a convenient tool to integrate information from scRNA-seq data to gain insight on AEI with cell type resolution. Results from such analysis will advance our understanding of cell type contributions in human diseases.\n",
      "\n",
      "Single-Cell Capture, RNA-seq, and Transcriptome Analysis from the Neural Retina.\n",
      "---\n",
      "Single-cell RNA sequencing (scRNA-seq) is an emerging technology that can address the challenge of cellular heterogeneity. In the last decade, the cost per cell has been dramatically reduced, and the throughput has been increased by 10\n",
      "\n",
      "visnormsc: A Graphical User Interface to Normalize Single-cell RNA Sequencing Data.\n",
      "---\n",
      "Single-cell RNA sequencing (RNA-seq) allows the analysis of gene expression with high resolution. The intrinsic defects of this promising technology imports technical noise into the single-cell RNA-seq data, increasing the difficulty of accurate downstream inference. Normalization is a crucial step in single-cell RNA-seq data pre-processing. SCnorm is an accurate and efficient method that can be used for this purpose. An R implementation of this method is currently available. On one hand, the R package possesses many excellent features from R. On the other hand, R programming ability is required, which prevents the biologists who lack the skills from learning to use it quickly. To make this method more user-friendly, we developed a graphical user interface, visnormsc, for normalization of single-cell RNA-seq data. It is implemented in Python and is freely available at https://github.com/solo7773/visnormsc . Although visnormsc is based on the existing method, it contributes to this field by offering a user-friendly alternative. The out-of-the-box and cross-platform features make visnormsc easy to learn and to use. It is expected to serve biologists by simplifying single-cell RNA-seq normalization.\n",
      "\n",
      "scGate: marker-based purification of cell types from heterogeneous single-cell RNA-seq datasets.\n",
      "---\n",
      "A common bioinformatics task in single-cell data analysis is to purify a cell type or cell population of interest from heterogeneous datasets. Here, we present scGate, an algorithm that automatizes marker-based purification of specific cell populations, without requiring training data or reference gene expression profiles. scGate purifies a cell population of interest using a set of markers organized in a hierarchical structure, akin to gating strategies employed in flow cytometry. scGate outperforms state-of-the-art single-cell classifiers and it can be applied to multiple modalities of single-cell data (e.g. RNA-seq, ATAC-seq, CITE-seq). scGate is implemented as an R package and integrated with the Seurat framework, providing an intuitive tool to isolate cell populations of interest from heterogeneous single-cell datasets.\n",
      "scGate is available as an R package at https://github.com/carmonalab/scGate (https://doi.org/10.5281/zenodo.6202614). Several reproducible workflows describing the main functions and usage of the package on different single-cell modalities, as well as the code to reproduce the benchmark, can be found at https://github.com/carmonalab/scGate.demo (https://doi.org/10.5281/zenodo.6202585) and https://github.com/carmonalab/scGate.benchmark. Test data are available at https://doi.org/10.6084/m9.figshare.16826071.\n",
      "Supplementary data are available at Bioinformatics online.\n",
      "\n",
      "Are dropout imputation methods for scRNA-seq effective for scHi-C data?\n",
      "---\n",
      "The prevalence of dropout events is a serious problem for single-cell Hi-C (scHiC) data due to insufficient sequencing depth and data coverage, which brings difficulties in downstream studies such as clustering and structural analysis. Complicating things further is the fact that dropouts are confounded with structural zeros due to underlying properties, leading to observed zeros being a mixture of both types of events. Although a great deal of progress has been made in imputing dropout events for single cell RNA-sequencing (RNA-seq) data, little has been done in identifying structural zeros and imputing dropouts for scHiC data. In this paper, we adapted several methods from the single-cell RNA-seq literature for inference on observed zeros in scHiC data and evaluated their effectiveness. Through an extensive simulation study and real data analysis, we have shown that a couple of the adapted single-cell RNA-seq algorithms can be powerful for correctly identifying structural zeros and accurately imputing dropout values. Downstream analysis using the imputed values showed considerable improvement for clustering cells of the same types together over clustering results before imputation.\n",
      "\n",
      "Inferring Gene Regulatory Networks From Single-Cell Transcriptomic Data Using Bidirectional RNN.\n",
      "---\n",
      "Accurate inference of gene regulatory rules is critical to understanding cellular processes. Existing computational methods usually decompose the inference of gene regulatory networks (GRNs) into multiple subproblems, rather than detecting potential causal relationships simultaneously, which limits the application to data with a small number of genes. Here, we propose BiRGRN, a novel computational algorithm for inferring GRNs from time-series single-cell RNA-seq (scRNA-seq) data. BiRGRN utilizes a bidirectional recurrent neural network to infer GRNs. The recurrent neural network is a complex deep neural network that can capture complex, non-linear, and dynamic relationships among variables. It maps neurons to genes, and maps the connections between neural network layers to the regulatory relationship between genes, providing an intuitive solution to model GRNs with biological closeness and mathematical flexibility. Based on the deep network, we transform the inference of GRNs into a regression problem, using the gene expression data at previous time points to predict the gene expression data at the later time point. Furthermore, we adopt two strategies to improve the accuracy and stability of the algorithm. Specifically, we utilize a bidirectional structure to integrate the forward and reverse inference results and exploit an incomplete set of prior knowledge to filter out some candidate inferences of low confidence. BiRGRN is applied to four simulated datasets and three real scRNA-seq datasets to verify the proposed method. We perform comprehensive comparisons between our proposed method with other state-of-the-art techniques. These experimental results indicate that BiRGRN is capable of inferring GRN simultaneously from time-series scRNA-seq data. Our method BiRGRN is implemented in Python using the TensorFlow machine-learning library, and it is freely available at https://gitee.com/DHUDBLab/bi-rgrn.\n",
      "\n",
      "SCCLRR: A Robust Computational Method for Accurate Clustering Single Cell RNA-Seq Data.\n",
      "---\n",
      "Single-cell RNA transcriptome data present a tremendous opportunity for studying the cellular heterogeneity. Identifying subpopulations based on scRNA-seq data is a hot topic in recent years, although many researchers have been focused on designing elegant computational methods for identifying new cell types; however, the performance of these methods is still unsatisfactory due to the high dimensionality, sparsity and noise of scRNA-seq data. In this study, we propose a new cell type detection method by learning a robust and accurate similarity matrix, named SCCLRR. The method simultaneously captures both global and local intrinsic properties of data based on a low rank representation (LRR) framework mathematical model. The integrated normalized Euclidean distance and cosine similarity are used to balance the intrinsic linear and nonlinear manifold of data in the local regularization term. To solve the non-convex optimization model, we present an iterative optimization procedure using the alternating direction method of multipliers (ADMM) algorithm. We evaluate the performance of the SCCLRR method on nine real scRNA-seq datasets and compare it with seven state-of-the-art methods. The simulation results show that the SCCLRR outperforms other methods and is robust and effective for clustering scRNA-seq data. (The code of SCCLRR is free available for academic https://github.com/wzhangwhu/SCCLRR).\n",
      "\n",
      "Exponential scaling of single-cell RNA-seq in the past decade.\n",
      "---\n",
      "Measurement of the transcriptomes of single cells has been feasible for only a few years, but it has become an extremely popular assay. While many types of analysis can be carried out and various questions can be answered by single-cell RNA-seq, a central focus is the ability to survey the diversity of cell types in a sample. Unbiased and reproducible cataloging of gene expression patterns in distinct cell types requires large numbers of cells. Technological developments and protocol improvements have fueled consistent and exponential increases in the number of cells that can be studied in single-cell RNA-seq analyses. In this Perspective, we highlight the key technological developments that have enabled this growth in the data obtained from single-cell RNA-seq experiments.\n",
      "\n",
      "AIscEA: unsupervised integration of single-cell gene expression and chromatin accessibility via their biological consistency.\n",
      "---\n",
      "The integrative analysis of single-cell gene expression and chromatin accessibility measurements is essential for revealing gene regulation, but it is one of the key challenges in computational biology. Gene expression and chromatin accessibility are measurements from different modalities, and no common features can be directly used to guide integration. Current state-of-the-art methods lack practical solutions for finding heterogeneous clusters. However, previous methods might not generate reliable results when cluster heterogeneity exists. More importantly, current methods lack an effective way to select hyper-parameters under an unsupervised setting. Therefore, applying computational methods to integrate single-cell gene expression and chromatin accessibility measurements remains difficult.\n",
      "We introduce AIscEA-Alignment-based Integration of single-cell gene Expression and chromatin Accessibility-a computational method that integrates single-cell gene expression and chromatin accessibility measurements using their biological consistency. AIscEA first defines a ranked similarity score to quantify the biological consistency between cell clusters across measurements. AIscEA then uses the ranked similarity score and a novel permutation test to identify cluster alignment across measurements. AIscEA further utilizes graph alignment for the aligned cell clusters to align the cells across measurements. We compared AIscEA with the competing methods on several benchmark datasets and demonstrated that AIscEA is highly robust to the choice of hyper-parameters and can better handle the cluster heterogeneity problem. Furthermore, AIscEA significantly outperforms the state-of-the-art methods when integrating real-world SNARE-seq and scMultiome-seq datasets in terms of integration accuracy.\n",
      "AIscEA is available at https://figshare.com/articles/software/AIscEA_zip/21291135 on FigShare as well as {https://github.com/elhaam/AIscEA} onGitHub.\n",
      "Supplementary data are available at Bioinformatics online.\n",
      "\n",
      "GPseudoClust: deconvolution of shared pseudo-profiles at single-cell resolution.\n",
      "---\n",
      "Many methods have been developed to cluster genes on the basis of their changes in mRNA expression over time, using bulk RNA-seq or microarray data. However, single-cell data may present a particular challenge for these algorithms, since the temporal ordering of cells is not directly observed. One way to address this is to first use pseudotime methods to order the cells, and then apply clustering techniques for time course data. However, pseudotime estimates are subject to high levels of uncertainty, and failing to account for this uncertainty is liable to lead to erroneous and/or over-confident gene clusters.\n",
      "The proposed method, GPseudoClust, is a novel approach that jointly infers pseudotemporal ordering and gene clusters, and quantifies the uncertainty in both. GPseudoClust combines a recent method for pseudotime inference with non-parametric Bayesian clustering methods, efficient Markov Chain Monte Carlo sampling and novel subsampling strategies which aid computation. We consider a broad array of simulated and experimental datasets to demonstrate the effectiveness of GPseudoClust in a range of settings.\n",
      "An implementation is available on GitHub: https://github.com/magStra/nonparametricSummaryPSM and https://github.com/magStra/GPseudoClust.\n",
      "Supplementary data are available at Bioinformatics online.\n",
      "\n",
      "Choice of pre-processing pipeline influences clustering quality of scRNA-seq datasets.\n",
      "---\n",
      "Single-cell RNA sequencing (scRNA-seq) has quickly become one of the most dominant techniques in modern transcriptome assessment. In particular, 10X Genomics' Chromium system, with its high throughput approach, turn key and thorough user guide made this cutting-edge technique accessible to many laboratories using diverse animal models. However, standard pre-processing, including the alignment and cell filtering pipelines might not be ideal for every organism or tissue. Here we applied an alternative strategy, based on the pseudoaligner kallisto, on twenty-two publicly available single cell sequencing datasets from a wide range of tissues of eight organisms and compared the results with the standard 10X Genomics' Cell Ranger pipeline.\n",
      "In most of the tested samples, kallisto produced higher sequencing read alignment rates and total gene detection rates in comparison to Cell Ranger. Although datasets processed with Cell Ranger had higher cell counts, outside of human and mouse datasets, these additional cells were routinely of low quality, containing low gene detection rates. Thorough downstream analysis of one kallisto processed dataset, obtained from the zebrafish pineal gland, revealed clearer clustering, allowing the identification of an additional photoreceptor cell type that previously went undetected. The finding of the new cluster suggests that the photoreceptive pineal gland is essentially a bi-chromatic tissue containing both green and red cone-like photoreceptors and implies that the alignment and pre-processing pipeline can affect the discovery of biologically-relevant cell types.\n",
      "While Cell Ranger favors higher cell numbers, using kallisto results in datasets with higher median gene detection per cell. We could demonstrate that cell type identification was not hampered by the lower cell count, but in fact improved as a result of the high gene detection rate and the more stringent filtering. Depending on the acquired dataset, it can be beneficial to favor high quality cells and accept a lower cell count, leading to an improved classification of cell types.\n",
      "\n",
      "Classification of low quality cells from single-cell RNA-seq data.\n",
      "---\n",
      "Single-cell RNA sequencing (scRNA-seq) has broad applications across biomedical research. One of the key challenges is to ensure that only single, live cells are included in downstream analysis, as the inclusion of compromised cells inevitably affects data interpretation. Here, we present a generic approach for processing scRNA-seq data and detecting low quality cells, using a curated set of over 20 biological and technical features. Our approach improves classification accuracy by over 30 % compared to traditional methods when tested on over 5,000 cells, including CD4+ T cells, bone marrow dendritic cells, and mouse embryonic stem cells.\n",
      "\n",
      "Network-Based Single-Cell RNA-Seq Data Imputation Enhances Cell Type Identification.\n",
      "---\n",
      "Single-cell RNA sequencing is a powerful technology for obtaining transcriptomes at single-cell resolutions. However, it suffers from dropout events (i.e., excess zero counts) since only a small fraction of transcripts get sequenced in each cell during the sequencing process. This inherent sparsity of expression profiles hinders further characterizations at cell/gene-level such as cell type identification and downstream analysis. To alleviate this dropout issue we introduce a network-based method, netImpute, by leveraging the hidden information in gene co-expression networks to recover real signals. netImpute employs Random Walk with Restart (RWR) to adjust the gene expression level in a given cell by borrowing information from its neighbors in a gene co-expression network. Performance evaluation and comparison with existing tools on simulated data and seven real datasets show that netImpute substantially enhances clustering accuracy and data visualization clarity, thanks to its effective treatment of dropouts. While the idea of netImpute is general and can be applied with other types of networks such as cell co-expression network or protein-protein interaction (PPI) network, evaluation results show that gene co-expression network is consistently more beneficial, presumably because PPI network usually lacks cell type context, while cell co-expression network can cause information loss for rare cell types. Evaluation results on several biological datasets show that netImpute can more effectively recover missing transcripts in scRNA-seq data and enhance the identification and visualization of heterogeneous cell types than existing methods.\n",
      "\n",
      "Tutorial: guidelines for the computational analysis of single-cell RNA sequencing data.\n",
      "---\n",
      "Single-cell RNA sequencing (scRNA-seq) is a popular and powerful technology that allows you to profile the whole transcriptome of a large number of individual cells. However, the analysis of the large volumes of data generated from these experiments requires specialized statistical and computational methods. Here we present an overview of the computational workflow involved in processing scRNA-seq data. We discuss some of the most common tasks and the tools available for addressing central biological questions. In this article and our companion website ( https://scrnaseq-course.cog.sanger.ac.uk/website/index.html ), we provide guidelines regarding best practices for performing computational analyses. This tutorial provides a hands-on guide for experimentalists interested in analyzing their data as well as an overview for bioinformaticians seeking to develop new computational methods.\n",
      "\n",
      "Category encoding method to select feature genes for the classification of bulk and single-cell RNA-seq data.\n",
      "---\n",
      "Bulk and single-cell RNA-seq (scRNA-seq) data are being used as alternatives to traditional technology in biology and medicine research. These data are used, for example, for the detection of differentially expressed (DE) genes. Several statistical methods have been developed for the classification of bulk and single-cell RNA-seq data. These feature genes are vitally important for the classification of bulk and single-cell RNA-seq data. The majority of genes are not DE and they are thus irrelevant for class distinction. To improve the classification performance and save the computation time, removal of irrelevant genes is necessary. Removal will aid the detection of the important feature genes. Widely used schemes in the literature, such as the BSS/WSS (BW) method, assume that data are normally distributed and may not be suitable for bulk and single-cell RNA-seq data. In this article, a category encoding (CAEN) method is proposed to select feature genes for bulk and single-cell RNA-seq data classification. This novel method encodes categories by employing the rank of sequence samples for each gene in each class. Correlation coefficients are considered for gene and class with the rank of sample and a new rank of category. The highest gene correlation coefficients are considered feature genes, which are the most effective for classifying bulk and single-cell RNA-seq dataset. The sure screening method was also established for rank consistency properties of the proposed CAEN method. Simulation studies show that the classifier using the proposed CAEN method performs better than, or at least as well as, the existing methods in most settings. Existing real datasets were analyzed, with the results demonstrating superior performance of the proposed method over current competitors. The application has been coded into an R package named \"CAEN\" to facilitate wide use.\n",
      "\n",
      "ImpulseDE: detection of differentially expressed genes in time series data using impulse models.\n",
      "---\n",
      "Perturbations in the environment lead to distinctive gene expression changes within a cell. Observed over time, those variations can be characterized by single impulse-like progression patterns. ImpulseDE is an R package suited to capture these patterns in high throughput time series datasets. By fitting a representative impulse model to each gene, it reports differentially expressed genes across time points from a single or between two time courses from two experiments. To optimize running time, the code uses clustering and multi-threading. By applying ImpulseDE , we demonstrate its power to represent underlying biology of gene expression in microarray and RNA-Seq data.\n",
      "ImpulseDE is available on Bioconductor ( https://bioconductor.org/packages/ImpulseDE/ ).\n",
      "niryosef@berkeley.edu.\n",
      "Supplementary data are available at Bioinformatics online.\n",
      "\n",
      "BingleSeq: a user-friendly R package for bulk and single-cell RNA-Seq data analysis.\n",
      "---\n",
      "RNA sequencing is an indispensable research tool used in a broad range of transcriptome analysis studies. The most common application of RNA Sequencing is differential expression analysis and it is used to determine genetic loci with distinct expression across different conditions. An emerging field called single-cell RNA sequencing is used for transcriptome profiling at the individual cell level. The standard protocols for both of these approaches include the processing of sequencing libraries and result in the generation of count matrices. An obstacle to these analyses and the acquisition of meaningful results is that they require programing expertise. Although some effort has been directed toward the development of user-friendly RNA-Seq analysis analysis tools, few have the flexibility to explore both Bulk and single-cell RNA sequencing.\n",
      "BingleSeq was developed as an intuitive application that provides a user-friendly solution for the analysis of count matrices produced by both Bulk and Single-cell RNA-Seq experiments. This was achieved by building an interactive dashboard-like user interface which incorporates three state-of-the-art software packages for each type of the aforementioned analyses. Furthermore, BingleSeq includes additional features such as visualization techniques, extensive functional annotation analysis and rank-based consensus for differential gene analysis results. As a result, BingleSeq puts some of the best reviewed and most widely used packages and tools for RNA-Seq analyses at the fingertips of biologists with no programing experience.\n",
      "BingleSeq is as an easy-to-install R package available on GitHub at https://github.com/dbdimitrov/BingleSeq/.\n",
      "\n"
     ]
    }
   ],
   "source": [
    "np.random.seed(42)\n",
    "for ind in np.random.choice(df.index[df.preds], 20):\n",
    "    print(df.title[ind])\n",
    "    print(\"---\")\n",
    "    print(df.abstract[ind])\n",
    "    print()"
   ]
  },
  {
   "attachments": {},
   "cell_type": "markdown",
   "metadata": {},
   "source": [
    "## Save to the DB"
   ]
  },
  {
   "cell_type": "code",
   "execution_count": 11,
   "metadata": {},
   "outputs": [],
   "source": [
    "from tqdm.notebook import tqdm\n",
    "import requests\n",
    "import json\n",
    "HASURA_API_KEY = os.getenv(\"HASURA_API_KEY\")"
   ]
  },
  {
   "cell_type": "code",
   "execution_count": 47,
   "metadata": {},
   "outputs": [
    {
     "name": "stdout",
     "output_type": "stream",
     "text": [
      "CPU times: user 7.43 s, sys: 4.23 ms, total: 7.43 s\n",
      "Wall time: 7.44 s\n"
     ]
    }
   ],
   "source": [
    "%%time\n",
    "insert_cols = [\"title\", \"abstract\", \"doi\", \"publication_date\", \"pubmed_id\", \"is_computational\", \"embedding\"]\n",
    "records = df.rename(columns={\"preds\": \"is_computational\"})[insert_cols].to_dict(orient=\"records\")\n",
    "for r in records:\n",
    "    r['embedding'] = '{' + \",\".join([f\"{x:.4g}\" for x in r[\"embedding\"]]) + '}'"
   ]
  },
  {
   "cell_type": "code",
   "execution_count": 49,
   "metadata": {},
   "outputs": [
    {
     "data": {
      "application/vnd.jupyter.widget-view+json": {
       "model_id": "7026af16c79a4a35b46d4b32759a11df",
       "version_major": 2,
       "version_minor": 0
      },
      "text/plain": [
       "  0%|          | 0/100 [00:00<?, ?it/s]"
      ]
     },
     "metadata": {},
     "output_type": "display_data"
    },
    {
     "name": "stdout",
     "output_type": "stream",
     "text": [
      "CPU times: user 5.2 s, sys: 231 ms, total: 5.43 s\n",
      "Wall time: 1min 53s\n"
     ]
    }
   ],
   "source": [
    "%%time \n",
    "res = []\n",
    "for recs in tqdm(np.array_split(records, 100)):\n",
    "    r = requests.post(\n",
    "        \"https://sealver.in/hasura/api/rest/scrnaseq_papers/insert\",\n",
    "        json={'objects': list(recs)},\n",
    "        auth = requests.auth.HTTPBasicAuth('user', HASURA_API_KEY)\n",
    "    )\n",
    "\n",
    "    res.append(r.json())"
   ]
  },
  {
   "cell_type": "code",
   "execution_count": 146,
   "metadata": {},
   "outputs": [
    {
     "data": {
      "text/plain": [
       "{'data': {'insert_ml_scrnaseq_papers': {'affected_rows': 1}}}"
      ]
     },
     "execution_count": 146,
     "metadata": {},
     "output_type": "execute_result"
    }
   ],
   "source": [
    "# query = \"\"\"\n",
    "# mutation insertPapers($objects: [ml_scrnaseq_papers_insert_input!]!) {\n",
    "#   insert_ml_scrnaseq_papers(objects: $objects) {affected_rows}\n",
    "# }\n",
    "# \"\"\"\n",
    "\n",
    "# r = requests.post(\n",
    "#     \"https://sealver.in/hasura/v1/graphql\", \n",
    "#     json={\n",
    "#         'query': query,\n",
    "#         'variables': {'objects': records},\n",
    "#         'operationName': 'insertPapers'\n",
    "#     },\n",
    "#     auth = requests.auth.HTTPBasicAuth('user', HASURA_API_KEY)\n",
    "# )\n",
    "# r.json()"
   ]
  },
  {
   "cell_type": "code",
   "execution_count": 59,
   "metadata": {},
   "outputs": [
    {
     "name": "stdout",
     "output_type": "stream",
     "text": [
      "CPU times: user 490 ms, sys: 72.2 ms, total: 562 ms\n",
      "Wall time: 10.1 s\n"
     ]
    }
   ],
   "source": [
    "%%time \n",
    "paps = requests.get(\n",
    "    \"https://sealver.in/hasura/api/rest/scrnaseq_papers/get\",\n",
    "    auth = requests.auth.HTTPBasicAuth('user', HASURA_API_KEY)\n",
    ")"
   ]
  },
  {
   "cell_type": "code",
   "execution_count": 60,
   "metadata": {},
   "outputs": [
    {
     "data": {
      "text/html": [
       "<div>\n",
       "<style scoped>\n",
       "    .dataframe tbody tr th:only-of-type {\n",
       "        vertical-align: middle;\n",
       "    }\n",
       "\n",
       "    .dataframe tbody tr th {\n",
       "        vertical-align: top;\n",
       "    }\n",
       "\n",
       "    .dataframe thead th {\n",
       "        text-align: right;\n",
       "    }\n",
       "</style>\n",
       "<table border=\"1\" class=\"dataframe\">\n",
       "  <thead>\n",
       "    <tr style=\"text-align: right;\">\n",
       "      <th></th>\n",
       "      <th>title</th>\n",
       "      <th>abstract</th>\n",
       "      <th>publication_date</th>\n",
       "      <th>doi</th>\n",
       "      <th>is_computational</th>\n",
       "    </tr>\n",
       "    <tr>\n",
       "      <th>pubmed_id</th>\n",
       "      <th></th>\n",
       "      <th></th>\n",
       "      <th></th>\n",
       "      <th></th>\n",
       "      <th></th>\n",
       "    </tr>\n",
       "  </thead>\n",
       "  <tbody>\n",
       "    <tr>\n",
       "      <th>36469459</th>\n",
       "      <td>Neuroendocrinology of the lung revealed by sin...</td>\n",
       "      <td>Pulmonary neuroendocrine cells (PNECs) are sen...</td>\n",
       "      <td>2022-12-06</td>\n",
       "      <td>10.7554/eLife.78216\\n10.1038/s41467-019-11276-...</td>\n",
       "      <td>False</td>\n",
       "    </tr>\n",
       "    <tr>\n",
       "      <th>36469154</th>\n",
       "      <td>Immunosuppressive role of SPP1-CD44 in the tum...</td>\n",
       "      <td>To demonstrate the biological function of Secr...</td>\n",
       "      <td>2022-12-06</td>\n",
       "      <td>10.1007/s00432-022-04498-w\\n10.1016/s0002-9610...</td>\n",
       "      <td>False</td>\n",
       "    </tr>\n",
       "    <tr>\n",
       "      <th>36468677</th>\n",
       "      <td>CD73-generated extracellular adenosine promote...</td>\n",
       "      <td>Pancreatitis is currently the leading cause of...</td>\n",
       "      <td>2022-12-06</td>\n",
       "      <td>10.1096/fj.202201537R\\n10.1097/01.mpa.00002367...</td>\n",
       "      <td>False</td>\n",
       "    </tr>\n",
       "    <tr>\n",
       "      <th>36468451</th>\n",
       "      <td>Experimental validation of in silico analysis ...</td>\n",
       "      <td>Colorectal cancer (CRC) is considered one of t...</td>\n",
       "      <td>2022-12-06</td>\n",
       "      <td>10.1002/cam4.5499</td>\n",
       "      <td>False</td>\n",
       "    </tr>\n",
       "    <tr>\n",
       "      <th>36468014</th>\n",
       "      <td>Transcriptome profiling of abdominal aortic ti...</td>\n",
       "      <td>Takayasu arteritis (TA) is a chronic granuloma...</td>\n",
       "      <td>2022-12-06</td>\n",
       "      <td>10.3389/fgene.2022.1036233\\n10.1002/art.178033...</td>\n",
       "      <td>False</td>\n",
       "    </tr>\n",
       "    <tr>\n",
       "      <th>...</th>\n",
       "      <td>...</td>\n",
       "      <td>...</td>\n",
       "      <td>...</td>\n",
       "      <td>...</td>\n",
       "      <td>...</td>\n",
       "    </tr>\n",
       "    <tr>\n",
       "      <th>26797145</th>\n",
       "      <td>Lineage-specific enhancers activate self-renew...</td>\n",
       "      <td>Differentiated macrophages can self-renew in t...</td>\n",
       "      <td>2016-01-23</td>\n",
       "      <td>10.1126/science.aad5510</td>\n",
       "      <td>False</td>\n",
       "    </tr>\n",
       "    <tr>\n",
       "      <th>26792870</th>\n",
       "      <td>Isolation and gene expression analysis of sing...</td>\n",
       "      <td>It is possible to isolate pure populations of ...</td>\n",
       "      <td>2016-01-23</td>\n",
       "      <td>10.1093/molehr/gaw006</td>\n",
       "      <td>False</td>\n",
       "    </tr>\n",
       "    <tr>\n",
       "      <th>26791494</th>\n",
       "      <td>\"Deciphering Archaeal Communities\" Omics Tools...</td>\n",
       "      <td>Archaea constitute one of the three recognized...</td>\n",
       "      <td>2016-01-23</td>\n",
       "      <td>10.1007/978-1-4939-3369-3_1</td>\n",
       "      <td>False</td>\n",
       "    </tr>\n",
       "    <tr>\n",
       "      <th>26789729</th>\n",
       "      <td>Single-cell profiling approaches to probing tu...</td>\n",
       "      <td>Tumor heterogeneity is a major hindrance in ca...</td>\n",
       "      <td>2016-01-21</td>\n",
       "      <td>10.1002/ijc.30006</td>\n",
       "      <td>False</td>\n",
       "    </tr>\n",
       "    <tr>\n",
       "      <th>26787646</th>\n",
       "      <td>Role of Sirt3 in mitochondrial biogenesis and ...</td>\n",
       "      <td>Does Sirt3 dysfunction result in poor developm...</td>\n",
       "      <td>2016-01-21</td>\n",
       "      <td>10.1093/humrep/dev345</td>\n",
       "      <td>False</td>\n",
       "    </tr>\n",
       "  </tbody>\n",
       "</table>\n",
       "<p>8107 rows × 5 columns</p>\n",
       "</div>"
      ],
      "text/plain": [
       "                                                       title  \\\n",
       "pubmed_id                                                      \n",
       "36469459   Neuroendocrinology of the lung revealed by sin...   \n",
       "36469154   Immunosuppressive role of SPP1-CD44 in the tum...   \n",
       "36468677   CD73-generated extracellular adenosine promote...   \n",
       "36468451   Experimental validation of in silico analysis ...   \n",
       "36468014   Transcriptome profiling of abdominal aortic ti...   \n",
       "...                                                      ...   \n",
       "26797145   Lineage-specific enhancers activate self-renew...   \n",
       "26792870   Isolation and gene expression analysis of sing...   \n",
       "26791494   \"Deciphering Archaeal Communities\" Omics Tools...   \n",
       "26789729   Single-cell profiling approaches to probing tu...   \n",
       "26787646   Role of Sirt3 in mitochondrial biogenesis and ...   \n",
       "\n",
       "                                                    abstract publication_date  \\\n",
       "pubmed_id                                                                       \n",
       "36469459   Pulmonary neuroendocrine cells (PNECs) are sen...       2022-12-06   \n",
       "36469154   To demonstrate the biological function of Secr...       2022-12-06   \n",
       "36468677   Pancreatitis is currently the leading cause of...       2022-12-06   \n",
       "36468451   Colorectal cancer (CRC) is considered one of t...       2022-12-06   \n",
       "36468014   Takayasu arteritis (TA) is a chronic granuloma...       2022-12-06   \n",
       "...                                                      ...              ...   \n",
       "26797145   Differentiated macrophages can self-renew in t...       2016-01-23   \n",
       "26792870   It is possible to isolate pure populations of ...       2016-01-23   \n",
       "26791494   Archaea constitute one of the three recognized...       2016-01-23   \n",
       "26789729   Tumor heterogeneity is a major hindrance in ca...       2016-01-21   \n",
       "26787646   Does Sirt3 dysfunction result in poor developm...       2016-01-21   \n",
       "\n",
       "                                                         doi  is_computational  \n",
       "pubmed_id                                                                       \n",
       "36469459   10.7554/eLife.78216\\n10.1038/s41467-019-11276-...             False  \n",
       "36469154   10.1007/s00432-022-04498-w\\n10.1016/s0002-9610...             False  \n",
       "36468677   10.1096/fj.202201537R\\n10.1097/01.mpa.00002367...             False  \n",
       "36468451                                   10.1002/cam4.5499             False  \n",
       "36468014   10.3389/fgene.2022.1036233\\n10.1002/art.178033...             False  \n",
       "...                                                      ...               ...  \n",
       "26797145                             10.1126/science.aad5510             False  \n",
       "26792870                               10.1093/molehr/gaw006             False  \n",
       "26791494                         10.1007/978-1-4939-3369-3_1             False  \n",
       "26789729                                   10.1002/ijc.30006             False  \n",
       "26787646                               10.1093/humrep/dev345             False  \n",
       "\n",
       "[8107 rows x 5 columns]"
      ]
     },
     "execution_count": 60,
     "metadata": {},
     "output_type": "execute_result"
    }
   ],
   "source": [
    "DataFrame(paps.json()['ml_scrnaseq_papers']).set_index('pubmed_id')"
   ]
  },
  {
   "cell_type": "markdown",
   "metadata": {
    "collapsed": false
   },
   "source": [
    "## Generate method description with GPT-3"
   ]
  },
  {
   "cell_type": "code",
   "execution_count": 147,
   "metadata": {
    "collapsed": false
   },
   "outputs": [],
   "source": [
    "method_prompt = \"\"\"\n",
    "Article:\n",
    "scWECTA: A weighted ensemble classification framework for cell type assignment based on single cell transcriptome.\n",
    "Rapid advances in single-cell transcriptome analysis provide deeper insights into the study of tissue heterogeneity at the cellular level. Unsupervised clustering can identify potential cell populations in single-cell RNA-sequencing (scRNA-seq) data, but fail to further determine the identity of each cell. Existing automatic annotation methods using scRNA-seq data based on machine learning mainly use single feature set and single classifier. In view of this, we propose a Weighted Ensemble classification framework for Cell Type Annotation, named scWECTA, which improves the accuracy of cell type identification. scWECTA uses five informative gene sets and integrates five classifiers based on soft weighted ensemble framework. And the ensemble weights are inferred through the constrained non-negative least squares. Validated on multiple pairs of scRNA-seq datasets, scWECTA is able to accurately annotate scRNA-seq data across platforms and across tissues, especially for imbalanced data containing rare cell types. Moreover, scWECTA outperforms other comparable methods in balancing the prediction accuracy of common cell types and the unassigned rate of non-common cell types at the same time. The source code of scWECTA is freely available at https://github.com/ttren-sc/scWECTA.\n",
    "\n",
    "Questions:\n",
    "- Current state: scRNA-seq data, methods for unsupervised clustering, automatic annotation methods\n",
    "- Problem: existing methods use single feature set and single classifier\n",
    "- Proposed solution: Weighted Ensemble classification framework for Cell Type Annotation\n",
    "- Results: improved the accuracy of cell type annotation\n",
    "- Methods: ensemble classifier, non-negative least squares\n",
    "\n",
    "---\n",
    "\n",
    "Article:\n",
    "scCapsNet-mask: an updated version of scCapsNet with extended applicability in functional analysis related to scRNA-seq data.\n",
    "With the rapid accumulation of scRNA-seq data, more and more automatic cell type identification methods have been developed, especially those based on deep learning. Although these methods have reached relatively high prediction accuracy, many issues still exist. One is the interpretability. The second is how to deal with the non-standard test samples that are not encountered in the training process.\n",
    "Here we introduce scCapsNet-mask, an updated version of scCapsNet. The scCapsNet-mask provides a reasonable solution to the issues of interpretability and non-standard test samples. Firstly, the scCapsNet-mask utilizes a mask to ease the task of model interpretation in the original scCapsNet. The results show that scCapsNet-mask could constrain the coupling coefficients, and make a one-to-one correspondence between the primary capsules and type capsules. Secondly, the scCapsNet-mask can process non-standard samples more reasonably. In one example, the scCapsNet-mask was trained on the committed cells, and then tested on less differentiated cells as the non-standard samples. It could not only estimate the lineage bias of less differentiated cells, but also distinguish the development stages more accurately than traditional machine learning models. Therefore, the pseudo-temporal order of cells for each lineage could be established. Following these pseudo-temporal order, lineage specific genes exhibit a gradual increase expression pattern and stem cell associated genes exhibit a gradual decrease expression pattern. In another example, the scCapsNet-mask was trained on scRNA-seq data, and then used to assign cell type in spatial transcriptomics that may contain non-standard sample of doublets. The results show that the scCapsNet-mask not only restored the spatial map but also identified several non-standard samples of doublet.\n",
    "The scCapsNet-mask offers a suitable solution to the challenge of interpretability and non-standard test samples. By adding a mask, it has the advantages of automatic processing and easy interpretation compared with the original scCapsNet. In addition, the scCapsNet-mask could more accurately reflect the composition of non-standard test samples than traditional machine learning methods. Therefore, it can extend its applicability in functional analysis, such as fate bias prediction in less differentiated cells and cell type assignment in spatial transcriptomics.\n",
    "\n",
    "\n",
    "Questions:\n",
    "- Current state: scRNA-seq data, methods for automated annotation based on deep learning\n",
    "- Problem: issues with interpretability and non-standard test samples\n",
    "- Proposed solution: mask for scCapsNet\n",
    "- Results: better interpretability and more accurate representation of the composition of non-standard test samples for functional analysis\n",
    "- Methods: capsules, mask, deep learning\n",
    "\n",
    "---\n",
    "\n",
    "Article:\n",
    "{query}\n",
    "\n",
    "Questions:\n",
    "- Current state:\n",
    "- Problem:\n",
    "- Proposed solution:\n",
    "- Results:\n",
    "- Methods:\n",
    "\"\"\"\n",
    "\n",
    "method_instruction = \"Extract and summarize answers to the given questions\""
   ]
  },
  {
   "cell_type": "code",
   "execution_count": 135,
   "metadata": {
    "collapsed": false
   },
   "outputs": [
    {
     "data": {
      "text/plain": [
       "(2394, 13)"
      ]
     },
     "execution_count": 135,
     "metadata": {},
     "output_type": "execute_result"
    }
   ],
   "source": [
    "comp_df_full = df[df.preds].drop(columns=\"preds\").copy()#.reset_index(drop=True)\n",
    "comp_df_full.shape"
   ]
  },
  {
   "cell_type": "code",
   "execution_count": 139,
   "metadata": {
    "collapsed": false
   },
   "outputs": [],
   "source": [
    "tq = (comp_df_full.title + \"\\n\" + comp_df_full.abstract).values[100]"
   ]
  },
  {
   "cell_type": "code",
   "execution_count": 151,
   "metadata": {
    "collapsed": false
   },
   "outputs": [],
   "source": [
    "text, n_tokens = query_openai(\n",
    "    method_prompt.format(query=tq), instruction=method_instruction,\n",
    "    model=\"text-davinci-edit-001\", temperature=0.3, top_p=1,\n",
    "    req_type=\"edit\"\n",
    ")"
   ]
  },
  {
   "cell_type": "code",
   "execution_count": null,
   "metadata": {
    "collapsed": false
   },
   "outputs": [],
   "source": [
    "completions = {}\n",
    "total_tokens = 0"
   ]
  },
  {
   "cell_type": "code",
   "execution_count": 215,
   "metadata": {
    "collapsed": false
   },
   "outputs": [
    {
     "data": {
      "application/vnd.jupyter.widget-view+json": {
       "model_id": "0a629cc171844b5494eb594ddb20d1b9",
       "version_major": 2,
       "version_minor": 0
      },
      "text/plain": [
       "  0%|          | 0/500 [00:00<?, ?it/s]"
      ]
     },
     "metadata": {},
     "output_type": "display_data"
    },
    {
     "name": "stdout",
     "output_type": "stream",
     "text": [
      "Error in request:  Rate limit reached for default-text-davinci-edit-001 in organization org-U1TjbYdU1TS4pKTLxotzWWWx on requests per min. Limit: 20.000000 / min. Current: 30.000000 / min. Contact support@openai.com if you continue to have issues.\n",
      "Error in request:  Rate limit reached for default-text-davinci-edit-001 in organization org-U1TjbYdU1TS4pKTLxotzWWWx on requests per min. Limit: 20.000000 / min. Current: 40.000000 / min. Contact support@openai.com if you continue to have issues.\n",
      "Error in request:  Rate limit reached for default-text-davinci-edit-001 in organization org-U1TjbYdU1TS4pKTLxotzWWWx on requests per min. Limit: 20.000000 / min. Current: 30.000000 / min. Contact support@openai.com if you continue to have issues.\n",
      "Error in request:  Rate limit reached for default-text-davinci-edit-001 in organization org-U1TjbYdU1TS4pKTLxotzWWWx on requests per min. Limit: 20.000000 / min. Current: 30.000000 / min. Contact support@openai.com if you continue to have issues.\n",
      "Error in request:  Rate limit reached for default-text-davinci-edit-001 in organization org-U1TjbYdU1TS4pKTLxotzWWWx on requests per min. Limit: 20.000000 / min. Current: 30.000000 / min. Contact support@openai.com if you continue to have issues.\n",
      "Error in request:  Rate limit reached for default-text-davinci-edit-001 in organization org-U1TjbYdU1TS4pKTLxotzWWWx on requests per min. Limit: 20.000000 / min. Current: 30.000000 / min. Contact support@openai.com if you continue to have issues.\n",
      "Error in request:  Rate limit reached for default-text-davinci-edit-001 in organization org-U1TjbYdU1TS4pKTLxotzWWWx on requests per min. Limit: 20.000000 / min. Current: 40.000000 / min. Contact support@openai.com if you continue to have issues.\n",
      "Error in request:  Rate limit reached for default-text-davinci-edit-001 in organization org-U1TjbYdU1TS4pKTLxotzWWWx on requests per min. Limit: 20.000000 / min. Current: 40.000000 / min. Contact support@openai.com if you continue to have issues.\n",
      "Error in request:  Rate limit reached for default-text-davinci-edit-001 in organization org-U1TjbYdU1TS4pKTLxotzWWWx on requests per min. Limit: 20.000000 / min. Current: 30.000000 / min. Contact support@openai.com if you continue to have issues.\n",
      "Error in request:  Rate limit reached for default-text-davinci-edit-001 in organization org-U1TjbYdU1TS4pKTLxotzWWWx on requests per min. Limit: 20.000000 / min. Current: 40.000000 / min. Contact support@openai.com if you continue to have issues.\n",
      "Error in request:  Rate limit reached for default-text-davinci-edit-001 in organization org-U1TjbYdU1TS4pKTLxotzWWWx on requests per min. Limit: 20.000000 / min. Current: 30.000000 / min. Contact support@openai.com if you continue to have issues.\n",
      "Error in request:  Rate limit reached for default-text-davinci-edit-001 in organization org-U1TjbYdU1TS4pKTLxotzWWWx on requests per min. Limit: 20.000000 / min. Current: 40.000000 / min. Contact support@openai.com if you continue to have issues.\n",
      "Error in request:  Rate limit reached for default-text-davinci-edit-001 in organization org-U1TjbYdU1TS4pKTLxotzWWWx on requests per min. Limit: 20.000000 / min. Current: 30.000000 / min. Contact support@openai.com if you continue to have issues.\n",
      "Error in request:  Rate limit reached for default-text-davinci-edit-001 in organization org-U1TjbYdU1TS4pKTLxotzWWWx on requests per min. Limit: 20.000000 / min. Current: 30.000000 / min. Contact support@openai.com if you continue to have issues.\n",
      "Error in request:  Rate limit reached for default-text-davinci-edit-001 in organization org-U1TjbYdU1TS4pKTLxotzWWWx on requests per min. Limit: 20.000000 / min. Current: 30.000000 / min. Contact support@openai.com if you continue to have issues.\n",
      "Error in request:  Rate limit reached for default-text-davinci-edit-001 in organization org-U1TjbYdU1TS4pKTLxotzWWWx on requests per min. Limit: 20.000000 / min. Current: 30.000000 / min. Contact support@openai.com if you continue to have issues.\n",
      "Error in request:  Rate limit reached for default-text-davinci-edit-001 in organization org-U1TjbYdU1TS4pKTLxotzWWWx on requests per min. Limit: 20.000000 / min. Current: 30.000000 / min. Contact support@openai.com if you continue to have issues.\n",
      "Error in request:  Rate limit reached for default-text-davinci-edit-001 in organization org-U1TjbYdU1TS4pKTLxotzWWWx on requests per min. Limit: 20.000000 / min. Current: 30.000000 / min. Contact support@openai.com if you continue to have issues.\n",
      "Error in request:  Rate limit reached for default-text-davinci-edit-001 in organization org-U1TjbYdU1TS4pKTLxotzWWWx on requests per min. Limit: 20.000000 / min. Current: 30.000000 / min. Contact support@openai.com if you continue to have issues.\n",
      "Error in request:  Rate limit reached for default-text-davinci-edit-001 in organization org-U1TjbYdU1TS4pKTLxotzWWWx on requests per min. Limit: 20.000000 / min. Current: 30.000000 / min. Contact support@openai.com if you continue to have issues.\n",
      "Error in request:  Rate limit reached for default-text-davinci-edit-001 in organization org-U1TjbYdU1TS4pKTLxotzWWWx on requests per min. Limit: 20.000000 / min. Current: 30.000000 / min. Contact support@openai.com if you continue to have issues.\n",
      "Error in request:  Rate limit reached for default-text-davinci-edit-001 in organization org-U1TjbYdU1TS4pKTLxotzWWWx on requests per min. Limit: 20.000000 / min. Current: 30.000000 / min. Contact support@openai.com if you continue to have issues.\n",
      "Error in request:  Rate limit reached for default-text-davinci-edit-001 in organization org-U1TjbYdU1TS4pKTLxotzWWWx on requests per min. Limit: 20.000000 / min. Current: 40.000000 / min. Contact support@openai.com if you continue to have issues.\n",
      "Error in request:  Rate limit reached for default-text-davinci-edit-001 in organization org-U1TjbYdU1TS4pKTLxotzWWWx on requests per min. Limit: 20.000000 / min. Current: 30.000000 / min. Contact support@openai.com if you continue to have issues.\n",
      "Error in request:  Rate limit reached for default-text-davinci-edit-001 in organization org-U1TjbYdU1TS4pKTLxotzWWWx on requests per min. Limit: 20.000000 / min. Current: 30.000000 / min. Contact support@openai.com if you continue to have issues.\n",
      "Error in request:  Rate limit reached for default-text-davinci-edit-001 in organization org-U1TjbYdU1TS4pKTLxotzWWWx on requests per min. Limit: 20.000000 / min. Current: 40.000000 / min. Contact support@openai.com if you continue to have issues.\n",
      "Error in request:  Rate limit reached for default-text-davinci-edit-001 in organization org-U1TjbYdU1TS4pKTLxotzWWWx on requests per min. Limit: 20.000000 / min. Current: 30.000000 / min. Contact support@openai.com if you continue to have issues.\n",
      "Error in request:  Rate limit reached for default-text-davinci-edit-001 in organization org-U1TjbYdU1TS4pKTLxotzWWWx on requests per min. Limit: 20.000000 / min. Current: 30.000000 / min. Contact support@openai.com if you continue to have issues.\n",
      "Error in request:  Rate limit reached for default-text-davinci-edit-001 in organization org-U1TjbYdU1TS4pKTLxotzWWWx on requests per min. Limit: 20.000000 / min. Current: 30.000000 / min. Contact support@openai.com if you continue to have issues.\n",
      "Error in request:  Rate limit reached for default-text-davinci-edit-001 in organization org-U1TjbYdU1TS4pKTLxotzWWWx on requests per min. Limit: 20.000000 / min. Current: 30.000000 / min. Contact support@openai.com if you continue to have issues.\n",
      "Error in request:  Rate limit reached for default-text-davinci-edit-001 in organization org-U1TjbYdU1TS4pKTLxotzWWWx on requests per min. Limit: 20.000000 / min. Current: 30.000000 / min. Contact support@openai.com if you continue to have issues.\n",
      "Error in request:  Rate limit reached for default-text-davinci-edit-001 in organization org-U1TjbYdU1TS4pKTLxotzWWWx on requests per min. Limit: 20.000000 / min. Current: 30.000000 / min. Contact support@openai.com if you continue to have issues.\n",
      "Error in request:  Rate limit reached for default-text-davinci-edit-001 in organization org-U1TjbYdU1TS4pKTLxotzWWWx on requests per min. Limit: 20.000000 / min. Current: 30.000000 / min. Contact support@openai.com if you continue to have issues.\n",
      "Error in request:  Rate limit reached for default-text-davinci-edit-001 in organization org-U1TjbYdU1TS4pKTLxotzWWWx on requests per min. Limit: 20.000000 / min. Current: 30.000000 / min. Contact support@openai.com if you continue to have issues.\n",
      "Error in request:  Rate limit reached for default-text-davinci-edit-001 in organization org-U1TjbYdU1TS4pKTLxotzWWWx on requests per min. Limit: 20.000000 / min. Current: 30.000000 / min. Contact support@openai.com if you continue to have issues.\n",
      "Error in request:  Rate limit reached for default-text-davinci-edit-001 in organization org-U1TjbYdU1TS4pKTLxotzWWWx on requests per min. Limit: 20.000000 / min. Current: 30.000000 / min. Contact support@openai.com if you continue to have issues.\n",
      "Error in request:  Rate limit reached for default-text-davinci-edit-001 in organization org-U1TjbYdU1TS4pKTLxotzWWWx on requests per min. Limit: 20.000000 / min. Current: 30.000000 / min. Contact support@openai.com if you continue to have issues.\n",
      "Error in request:  Rate limit reached for default-text-davinci-edit-001 in organization org-U1TjbYdU1TS4pKTLxotzWWWx on requests per min. Limit: 20.000000 / min. Current: 30.000000 / min. Contact support@openai.com if you continue to have issues.\n",
      "Error in request:  Rate limit reached for default-text-davinci-edit-001 in organization org-U1TjbYdU1TS4pKTLxotzWWWx on requests per min. Limit: 20.000000 / min. Current: 30.000000 / min. Contact support@openai.com if you continue to have issues.\n",
      "Error in request:  Rate limit reached for default-text-davinci-edit-001 in organization org-U1TjbYdU1TS4pKTLxotzWWWx on requests per min. Limit: 20.000000 / min. Current: 30.000000 / min. Contact support@openai.com if you continue to have issues.\n",
      "Error in request:  Rate limit reached for default-text-davinci-edit-001 in organization org-U1TjbYdU1TS4pKTLxotzWWWx on requests per min. Limit: 20.000000 / min. Current: 30.000000 / min. Contact support@openai.com if you continue to have issues.\n",
      "Error in request:  Rate limit reached for default-text-davinci-edit-001 in organization org-U1TjbYdU1TS4pKTLxotzWWWx on requests per min. Limit: 20.000000 / min. Current: 30.000000 / min. Contact support@openai.com if you continue to have issues.\n",
      "Error in request:  Rate limit reached for default-text-davinci-edit-001 in organization org-U1TjbYdU1TS4pKTLxotzWWWx on requests per min. Limit: 20.000000 / min. Current: 30.000000 / min. Contact support@openai.com if you continue to have issues.\n",
      "Error in request:  Rate limit reached for default-text-davinci-edit-001 in organization org-U1TjbYdU1TS4pKTLxotzWWWx on requests per min. Limit: 20.000000 / min. Current: 30.000000 / min. Contact support@openai.com if you continue to have issues.\n",
      "Error in request:  Rate limit reached for default-text-davinci-edit-001 in organization org-U1TjbYdU1TS4pKTLxotzWWWx on requests per min. Limit: 20.000000 / min. Current: 30.000000 / min. Contact support@openai.com if you continue to have issues.\n",
      "Error in request:  Rate limit reached for default-text-davinci-edit-001 in organization org-U1TjbYdU1TS4pKTLxotzWWWx on requests per min. Limit: 20.000000 / min. Current: 40.000000 / min. Contact support@openai.com if you continue to have issues.\n",
      "Error in request:  Rate limit reached for default-text-davinci-edit-001 in organization org-U1TjbYdU1TS4pKTLxotzWWWx on requests per min. Limit: 20.000000 / min. Current: 40.000000 / min. Contact support@openai.com if you continue to have issues.\n",
      "Error in request:  Rate limit reached for default-text-davinci-edit-001 in organization org-U1TjbYdU1TS4pKTLxotzWWWx on requests per min. Limit: 20.000000 / min. Current: 30.000000 / min. Contact support@openai.com if you continue to have issues.\n",
      "Error in request:  Rate limit reached for default-text-davinci-edit-001 in organization org-U1TjbYdU1TS4pKTLxotzWWWx on requests per min. Limit: 20.000000 / min. Current: 30.000000 / min. Contact support@openai.com if you continue to have issues.\n",
      "Error in request:  Rate limit reached for default-text-davinci-edit-001 in organization org-U1TjbYdU1TS4pKTLxotzWWWx on requests per min. Limit: 20.000000 / min. Current: 40.000000 / min. Contact support@openai.com if you continue to have issues.\n",
      "Error in request:  Rate limit reached for default-text-davinci-edit-001 in organization org-U1TjbYdU1TS4pKTLxotzWWWx on requests per min. Limit: 20.000000 / min. Current: 30.000000 / min. Contact support@openai.com if you continue to have issues.\n",
      "Error in request:  Rate limit reached for default-text-davinci-edit-001 in organization org-U1TjbYdU1TS4pKTLxotzWWWx on requests per min. Limit: 20.000000 / min. Current: 30.000000 / min. Contact support@openai.com if you continue to have issues.\n",
      "Error in request:  Rate limit reached for default-text-davinci-edit-001 in organization org-U1TjbYdU1TS4pKTLxotzWWWx on requests per min. Limit: 20.000000 / min. Current: 30.000000 / min. Contact support@openai.com if you continue to have issues.\n",
      "Error in request:  Rate limit reached for default-text-davinci-edit-001 in organization org-U1TjbYdU1TS4pKTLxotzWWWx on requests per min. Limit: 20.000000 / min. Current: 30.000000 / min. Contact support@openai.com if you continue to have issues.\n",
      "Error in request:  Rate limit reached for default-text-davinci-edit-001 in organization org-U1TjbYdU1TS4pKTLxotzWWWx on requests per min. Limit: 20.000000 / min. Current: 30.000000 / min. Contact support@openai.com if you continue to have issues.\n",
      "Error in request:  Rate limit reached for default-text-davinci-edit-001 in organization org-U1TjbYdU1TS4pKTLxotzWWWx on requests per min. Limit: 20.000000 / min. Current: 30.000000 / min. Contact support@openai.com if you continue to have issues.\n",
      "Error in request:  Rate limit reached for default-text-davinci-edit-001 in organization org-U1TjbYdU1TS4pKTLxotzWWWx on requests per min. Limit: 20.000000 / min. Current: 30.000000 / min. Contact support@openai.com if you continue to have issues.\n",
      "Error in request:  Rate limit reached for default-text-davinci-edit-001 in organization org-U1TjbYdU1TS4pKTLxotzWWWx on requests per min. Limit: 20.000000 / min. Current: 30.000000 / min. Contact support@openai.com if you continue to have issues.\n",
      "Error in request:  Rate limit reached for default-text-davinci-edit-001 in organization org-U1TjbYdU1TS4pKTLxotzWWWx on requests per min. Limit: 20.000000 / min. Current: 40.000000 / min. Contact support@openai.com if you continue to have issues.\n",
      "Error in request:  Rate limit reached for default-text-davinci-edit-001 in organization org-U1TjbYdU1TS4pKTLxotzWWWx on requests per min. Limit: 20.000000 / min. Current: 30.000000 / min. Contact support@openai.com if you continue to have issues.\n",
      "Error in request:  Rate limit reached for default-text-davinci-edit-001 in organization org-U1TjbYdU1TS4pKTLxotzWWWx on requests per min. Limit: 20.000000 / min. Current: 40.000000 / min. Contact support@openai.com if you continue to have issues.\n",
      "Error in request:  Rate limit reached for default-text-davinci-edit-001 in organization org-U1TjbYdU1TS4pKTLxotzWWWx on requests per min. Limit: 20.000000 / min. Current: 30.000000 / min. Contact support@openai.com if you continue to have issues.\n",
      "Error in request:  Rate limit reached for default-text-davinci-edit-001 in organization org-U1TjbYdU1TS4pKTLxotzWWWx on requests per min. Limit: 20.000000 / min. Current: 30.000000 / min. Contact support@openai.com if you continue to have issues.\n",
      "Error in request:  Rate limit reached for default-text-davinci-edit-001 in organization org-U1TjbYdU1TS4pKTLxotzWWWx on requests per min. Limit: 20.000000 / min. Current: 30.000000 / min. Contact support@openai.com if you continue to have issues.\n",
      "Error in request:  Rate limit reached for default-text-davinci-edit-001 in organization org-U1TjbYdU1TS4pKTLxotzWWWx on requests per min. Limit: 20.000000 / min. Current: 30.000000 / min. Contact support@openai.com if you continue to have issues.\n",
      "Error in request:  Rate limit reached for default-text-davinci-edit-001 in organization org-U1TjbYdU1TS4pKTLxotzWWWx on requests per min. Limit: 20.000000 / min. Current: 30.000000 / min. Contact support@openai.com if you continue to have issues.\n",
      "Error in request:  Rate limit reached for default-text-davinci-edit-001 in organization org-U1TjbYdU1TS4pKTLxotzWWWx on requests per min. Limit: 20.000000 / min. Current: 30.000000 / min. Contact support@openai.com if you continue to have issues.\n",
      "Error in request:  Rate limit reached for default-text-davinci-edit-001 in organization org-U1TjbYdU1TS4pKTLxotzWWWx on requests per min. Limit: 20.000000 / min. Current: 30.000000 / min. Contact support@openai.com if you continue to have issues.\n",
      "Error in request:  Rate limit reached for default-text-davinci-edit-001 in organization org-U1TjbYdU1TS4pKTLxotzWWWx on requests per min. Limit: 20.000000 / min. Current: 40.000000 / min. Contact support@openai.com if you continue to have issues.\n",
      "Error in request:  Rate limit reached for default-text-davinci-edit-001 in organization org-U1TjbYdU1TS4pKTLxotzWWWx on requests per min. Limit: 20.000000 / min. Current: 40.000000 / min. Contact support@openai.com if you continue to have issues.\n",
      "Error in request:  Rate limit reached for default-text-davinci-edit-001 in organization org-U1TjbYdU1TS4pKTLxotzWWWx on requests per min. Limit: 20.000000 / min. Current: 30.000000 / min. Contact support@openai.com if you continue to have issues.\n",
      "Error in request:  Rate limit reached for default-text-davinci-edit-001 in organization org-U1TjbYdU1TS4pKTLxotzWWWx on requests per min. Limit: 20.000000 / min. Current: 30.000000 / min. Contact support@openai.com if you continue to have issues.\n",
      "Error in request:  Rate limit reached for default-text-davinci-edit-001 in organization org-U1TjbYdU1TS4pKTLxotzWWWx on requests per min. Limit: 20.000000 / min. Current: 30.000000 / min. Contact support@openai.com if you continue to have issues.\n",
      "Error in request:  Rate limit reached for default-text-davinci-edit-001 in organization org-U1TjbYdU1TS4pKTLxotzWWWx on requests per min. Limit: 20.000000 / min. Current: 30.000000 / min. Contact support@openai.com if you continue to have issues.\n",
      "Error in request:  Rate limit reached for default-text-davinci-edit-001 in organization org-U1TjbYdU1TS4pKTLxotzWWWx on requests per min. Limit: 20.000000 / min. Current: 30.000000 / min. Contact support@openai.com if you continue to have issues.\n",
      "Error in request:  Rate limit reached for default-text-davinci-edit-001 in organization org-U1TjbYdU1TS4pKTLxotzWWWx on requests per min. Limit: 20.000000 / min. Current: 30.000000 / min. Contact support@openai.com if you continue to have issues.\n",
      "Error in request:  Rate limit reached for default-text-davinci-edit-001 in organization org-U1TjbYdU1TS4pKTLxotzWWWx on requests per min. Limit: 20.000000 / min. Current: 30.000000 / min. Contact support@openai.com if you continue to have issues.\n",
      "Error in request:  Rate limit reached for default-text-davinci-edit-001 in organization org-U1TjbYdU1TS4pKTLxotzWWWx on requests per min. Limit: 20.000000 / min. Current: 30.000000 / min. Contact support@openai.com if you continue to have issues.\n",
      "Error in request:  Rate limit reached for default-text-davinci-edit-001 in organization org-U1TjbYdU1TS4pKTLxotzWWWx on requests per min. Limit: 20.000000 / min. Current: 30.000000 / min. Contact support@openai.com if you continue to have issues.\n",
      "Error in request:  Rate limit reached for default-text-davinci-edit-001 in organization org-U1TjbYdU1TS4pKTLxotzWWWx on requests per min. Limit: 20.000000 / min. Current: 30.000000 / min. Contact support@openai.com if you continue to have issues.\n",
      "Error in request:  Rate limit reached for default-text-davinci-edit-001 in organization org-U1TjbYdU1TS4pKTLxotzWWWx on requests per min. Limit: 20.000000 / min. Current: 30.000000 / min. Contact support@openai.com if you continue to have issues.\n",
      "Error in request:  Rate limit reached for default-text-davinci-edit-001 in organization org-U1TjbYdU1TS4pKTLxotzWWWx on requests per min. Limit: 20.000000 / min. Current: 30.000000 / min. Contact support@openai.com if you continue to have issues.\n",
      "Error in request:  Rate limit reached for default-text-davinci-edit-001 in organization org-U1TjbYdU1TS4pKTLxotzWWWx on requests per min. Limit: 20.000000 / min. Current: 30.000000 / min. Contact support@openai.com if you continue to have issues.\n",
      "Error in request:  Rate limit reached for default-text-davinci-edit-001 in organization org-U1TjbYdU1TS4pKTLxotzWWWx on requests per min. Limit: 20.000000 / min. Current: 30.000000 / min. Contact support@openai.com if you continue to have issues.\n",
      "Error in request:  Rate limit reached for default-text-davinci-edit-001 in organization org-U1TjbYdU1TS4pKTLxotzWWWx on requests per min. Limit: 20.000000 / min. Current: 30.000000 / min. Contact support@openai.com if you continue to have issues.\n",
      "Error in request:  Rate limit reached for default-text-davinci-edit-001 in organization org-U1TjbYdU1TS4pKTLxotzWWWx on requests per min. Limit: 20.000000 / min. Current: 30.000000 / min. Contact support@openai.com if you continue to have issues.\n",
      "Error in request:  Rate limit reached for default-text-davinci-edit-001 in organization org-U1TjbYdU1TS4pKTLxotzWWWx on requests per min. Limit: 20.000000 / min. Current: 30.000000 / min. Contact support@openai.com if you continue to have issues.\n",
      "Error in request:  Rate limit reached for default-text-davinci-edit-001 in organization org-U1TjbYdU1TS4pKTLxotzWWWx on requests per min. Limit: 20.000000 / min. Current: 40.000000 / min. Contact support@openai.com if you continue to have issues.\n",
      "Error in request:  Rate limit reached for default-text-davinci-edit-001 in organization org-U1TjbYdU1TS4pKTLxotzWWWx on requests per min. Limit: 20.000000 / min. Current: 30.000000 / min. Contact support@openai.com if you continue to have issues.\n",
      "Error in request:  Rate limit reached for default-text-davinci-edit-001 in organization org-U1TjbYdU1TS4pKTLxotzWWWx on requests per min. Limit: 20.000000 / min. Current: 30.000000 / min. Contact support@openai.com if you continue to have issues.\n",
      "Error in request:  Rate limit reached for default-text-davinci-edit-001 in organization org-U1TjbYdU1TS4pKTLxotzWWWx on requests per min. Limit: 20.000000 / min. Current: 30.000000 / min. Contact support@openai.com if you continue to have issues.\n",
      "Error in request:  Rate limit reached for default-text-davinci-edit-001 in organization org-U1TjbYdU1TS4pKTLxotzWWWx on requests per min. Limit: 20.000000 / min. Current: 30.000000 / min. Contact support@openai.com if you continue to have issues.\n",
      "Error in request:  Rate limit reached for default-text-davinci-edit-001 in organization org-U1TjbYdU1TS4pKTLxotzWWWx on requests per min. Limit: 20.000000 / min. Current: 40.000000 / min. Contact support@openai.com if you continue to have issues.\n",
      "Error in request:  Rate limit reached for default-text-davinci-edit-001 in organization org-U1TjbYdU1TS4pKTLxotzWWWx on requests per min. Limit: 20.000000 / min. Current: 40.000000 / min. Contact support@openai.com if you continue to have issues.\n",
      "Error in request:  Rate limit reached for default-text-davinci-edit-001 in organization org-U1TjbYdU1TS4pKTLxotzWWWx on requests per min. Limit: 20.000000 / min. Current: 30.000000 / min. Contact support@openai.com if you continue to have issues.\n",
      "Error in request:  Rate limit reached for default-text-davinci-edit-001 in organization org-U1TjbYdU1TS4pKTLxotzWWWx on requests per min. Limit: 20.000000 / min. Current: 40.000000 / min. Contact support@openai.com if you continue to have issues.\n",
      "Error in request:  Rate limit reached for default-text-davinci-edit-001 in organization org-U1TjbYdU1TS4pKTLxotzWWWx on requests per min. Limit: 20.000000 / min. Current: 50.000000 / min. Contact support@openai.com if you continue to have issues.\n",
      "Error in request:  Rate limit reached for default-text-davinci-edit-001 in organization org-U1TjbYdU1TS4pKTLxotzWWWx on requests per min. Limit: 20.000000 / min. Current: 30.000000 / min. Contact support@openai.com if you continue to have issues.\n",
      "Error in request:  Rate limit reached for default-text-davinci-edit-001 in organization org-U1TjbYdU1TS4pKTLxotzWWWx on requests per min. Limit: 20.000000 / min. Current: 40.000000 / min. Contact support@openai.com if you continue to have issues.\n",
      "Error in request:  Rate limit reached for default-text-davinci-edit-001 in organization org-U1TjbYdU1TS4pKTLxotzWWWx on requests per min. Limit: 20.000000 / min. Current: 30.000000 / min. Contact support@openai.com if you continue to have issues.\n",
      "Error in request:  Rate limit reached for default-text-davinci-edit-001 in organization org-U1TjbYdU1TS4pKTLxotzWWWx on requests per min. Limit: 20.000000 / min. Current: 30.000000 / min. Contact support@openai.com if you continue to have issues.\n",
      "Error in request:  Rate limit reached for default-text-davinci-edit-001 in organization org-U1TjbYdU1TS4pKTLxotzWWWx on requests per min. Limit: 20.000000 / min. Current: 30.000000 / min. Contact support@openai.com if you continue to have issues.\n",
      "Error in request:  Rate limit reached for default-text-davinci-edit-001 in organization org-U1TjbYdU1TS4pKTLxotzWWWx on requests per min. Limit: 20.000000 / min. Current: 30.000000 / min. Contact support@openai.com if you continue to have issues.\n",
      "Error in request:  Rate limit reached for default-text-davinci-edit-001 in organization org-U1TjbYdU1TS4pKTLxotzWWWx on requests per min. Limit: 20.000000 / min. Current: 40.000000 / min. Contact support@openai.com if you continue to have issues.\n",
      "Error in request:  Rate limit reached for default-text-davinci-edit-001 in organization org-U1TjbYdU1TS4pKTLxotzWWWx on requests per min. Limit: 20.000000 / min. Current: 30.000000 / min. Contact support@openai.com if you continue to have issues.\n",
      "Error in request:  Rate limit reached for default-text-davinci-edit-001 in organization org-U1TjbYdU1TS4pKTLxotzWWWx on requests per min. Limit: 20.000000 / min. Current: 40.000000 / min. Contact support@openai.com if you continue to have issues.\n",
      "Error in request:  Rate limit reached for default-text-davinci-edit-001 in organization org-U1TjbYdU1TS4pKTLxotzWWWx on requests per min. Limit: 20.000000 / min. Current: 30.000000 / min. Contact support@openai.com if you continue to have issues.\n"
     ]
    }
   ],
   "source": [
    "run_samples = (comp_df_full.title + \"\\n\" + comp_df_full.abstract).head(500)\n",
    "pbar = tqdm(run_samples.items(), total=run_samples.size)\n",
    "for i,query in pbar:\n",
    "    if i in completions:\n",
    "        continue\n",
    "\n",
    "    pbar.set_description(f\"Total tokens: {total_tokens}\")\n",
    "    text, n_tokens = query_openai(\n",
    "        method_prompt.format(query=query), instruction=method_instruction,\n",
    "        model=\"text-davinci-edit-001\", temperature=0.3, top_p=1,\n",
    "        req_type=\"edit\"\n",
    "    )\n",
    "\n",
    "    if text is None:\n",
    "        completions[i] = None\n",
    "        continue\n",
    "\n",
    "    answer = text.split(\"Questions:\")[-1].strip()\n",
    "    completions[i] = {'text': text, 'answer': answer, 'title': comp_df_full.title.values[i], 'id': i}\n",
    "\n",
    "    total_tokens += n_tokens\n",
    "    sleep(1.5)"
   ]
  },
  {
   "cell_type": "code",
   "execution_count": 201,
   "metadata": {
    "collapsed": false
   },
   "outputs": [],
   "source": [
    "# DataFrame(completions).to_pickle(\"../data/completions_first_run.pkl\")"
   ]
  },
  {
   "cell_type": "code",
   "execution_count": 229,
   "metadata": {
    "collapsed": false
   },
   "outputs": [
    {
     "name": "stdout",
     "output_type": "stream",
     "text": [
      "Deep transfer learning of cancer drug responses by integrating bulk and single-cell RNA-seq data.\n",
      "- Current state: scRNA-seq data, bulk RNA-seq data\n",
      "- Problem: how to predict drug responses in scRNA-seq data\n",
      "- Proposed solution: deep transfer learning framework for cancer drug response prediction\n",
      "- Results: improved therapeutic efficacy\n",
      "- Methods: deep learning, transfer learning, gradient feature interpretation\n",
      "\n",
      "Drug screening data from massive bulk gene expression databases can be analyzed to determine the optimal clinical application of cancer drugs. The growing amount of single-cell RNA sequencing (scRNA-seq) data also provides insights into improving therapeutic effectiveness by helping to study the heterogeneity of drug responses for cancer cell subpopulations. Developing computational approaches to predict and interpret cancer drug response in single-cell data collected from clinical samples can be very useful. We propose scDEAL, a deep transfer learning framework for cancer drug response prediction at the single-cell level by integrating large-scale bulk cell-line data. The highlight in scDEAL involves harmonizing drug-related bulk RNA-seq data with scRNA-seq data and transferring the model trained on bulk RNA-seq data to predict drug responses in scRNA-seq. Another feature of scDEAL is the integrated gradient feature interpretation to infer the signature genes of drug resistance mechanisms. We benchmark scDEAL on six scRNA-seq datasets and demonstrate its model interpretability via three case studies focusing on drug response label prediction, gene signature identification, and pseudotime analysis. We believe that scDEAL could help study cell reprogramming, drug selection, and repurposing for improving therapeutic efficacy.\n"
     ]
    }
   ],
   "source": [
    "ci = comp_df_full.title.index[102]\n",
    "print(comp_df_full.title[ci])\n",
    "print(completions[ci][\"answer\"])\n",
    "print()\n",
    "print(comp_df_full.abstract[ci])"
   ]
  },
  {
   "cell_type": "code",
   "execution_count": 165,
   "metadata": {
    "collapsed": false
   },
   "outputs": [
    {
     "data": {
      "text/html": [
       "<div>\n",
       "<style scoped>\n",
       "    .dataframe tbody tr th:only-of-type {\n",
       "        vertical-align: middle;\n",
       "    }\n",
       "\n",
       "    .dataframe tbody tr th {\n",
       "        vertical-align: top;\n",
       "    }\n",
       "\n",
       "    .dataframe thead th {\n",
       "        text-align: right;\n",
       "    }\n",
       "</style>\n",
       "<table border=\"1\" class=\"dataframe\">\n",
       "  <thead>\n",
       "    <tr style=\"text-align: right;\">\n",
       "      <th></th>\n",
       "      <th>text</th>\n",
       "      <th>answer</th>\n",
       "    </tr>\n",
       "  </thead>\n",
       "  <tbody>\n",
       "    <tr>\n",
       "      <th>0</th>\n",
       "      <td>\\nArticle:\\nscWECTA: A weighted ensemble class...</td>\n",
       "      <td>- Current state: scRNA-seq data, COVID-19 rese...</td>\n",
       "    </tr>\n",
       "    <tr>\n",
       "      <th>1</th>\n",
       "      <td>\\nArticle:\\nscWECTA: A weighted ensemble class...</td>\n",
       "      <td>- Current state:\\n- Problem:\\n- Proposed solut...</td>\n",
       "    </tr>\n",
       "    <tr>\n",
       "      <th>2</th>\n",
       "      <td>\\nArticle:\\nscWECTA: A weighted ensemble class...</td>\n",
       "      <td>- Current state: scCAS data, topic modeling\\n-...</td>\n",
       "    </tr>\n",
       "    <tr>\n",
       "      <th>3</th>\n",
       "      <td>\\nArticle:\\nscWECTA: A weighted ensemble class...</td>\n",
       "      <td>- Current state: scRNA-seq data, methods for u...</td>\n",
       "    </tr>\n",
       "    <tr>\n",
       "      <th>4</th>\n",
       "      <td>\\nArticle:\\nscWECTA: A weighted ensemble class...</td>\n",
       "      <td>- Current state: CAFs play a crucial role in c...</td>\n",
       "    </tr>\n",
       "    <tr>\n",
       "      <th>...</th>\n",
       "      <td>...</td>\n",
       "      <td>...</td>\n",
       "    </tr>\n",
       "    <tr>\n",
       "      <th>145</th>\n",
       "      <td>\\nArticle:\\nscWECTA: A weighted ensemble class...</td>\n",
       "      <td>- Current state: scATAC-seq and scRNA-seq\\n- P...</td>\n",
       "    </tr>\n",
       "    <tr>\n",
       "      <th>146</th>\n",
       "      <td>\\nArticle:\\nscWECTA: A weighted ensemble class...</td>\n",
       "      <td>- Current state: scRNA-Seq data, computational...</td>\n",
       "    </tr>\n",
       "    <tr>\n",
       "      <th>147</th>\n",
       "      <td>\\nArticle:\\nscWECTA: A weighted ensemble class...</td>\n",
       "      <td>- Current state: plant single-cell RNA-seq tec...</td>\n",
       "    </tr>\n",
       "    <tr>\n",
       "      <th>148</th>\n",
       "      <td>\\nArticle:\\nscWECTA: A weighted ensemble class...</td>\n",
       "      <td>- Current state: scRNA-seq and scATAC-seq data...</td>\n",
       "    </tr>\n",
       "    <tr>\n",
       "      <th>149</th>\n",
       "      <td>\\nArticle:\\nscWECTA: A weighted ensemble class...</td>\n",
       "      <td>- Current state: scRNA-seq data, methods for d...</td>\n",
       "    </tr>\n",
       "  </tbody>\n",
       "</table>\n",
       "<p>147 rows × 2 columns</p>\n",
       "</div>"
      ],
      "text/plain": [
       "                                                  text  \\\n",
       "0    \\nArticle:\\nscWECTA: A weighted ensemble class...   \n",
       "1    \\nArticle:\\nscWECTA: A weighted ensemble class...   \n",
       "2    \\nArticle:\\nscWECTA: A weighted ensemble class...   \n",
       "3    \\nArticle:\\nscWECTA: A weighted ensemble class...   \n",
       "4    \\nArticle:\\nscWECTA: A weighted ensemble class...   \n",
       "..                                                 ...   \n",
       "145  \\nArticle:\\nscWECTA: A weighted ensemble class...   \n",
       "146  \\nArticle:\\nscWECTA: A weighted ensemble class...   \n",
       "147  \\nArticle:\\nscWECTA: A weighted ensemble class...   \n",
       "148  \\nArticle:\\nscWECTA: A weighted ensemble class...   \n",
       "149  \\nArticle:\\nscWECTA: A weighted ensemble class...   \n",
       "\n",
       "                                                answer  \n",
       "0    - Current state: scRNA-seq data, COVID-19 rese...  \n",
       "1    - Current state:\\n- Problem:\\n- Proposed solut...  \n",
       "2    - Current state: scCAS data, topic modeling\\n-...  \n",
       "3    - Current state: scRNA-seq data, methods for u...  \n",
       "4    - Current state: CAFs play a crucial role in c...  \n",
       "..                                                 ...  \n",
       "145  - Current state: scATAC-seq and scRNA-seq\\n- P...  \n",
       "146  - Current state: scRNA-Seq data, computational...  \n",
       "147  - Current state: plant single-cell RNA-seq tec...  \n",
       "148  - Current state: scRNA-seq and scATAC-seq data...  \n",
       "149  - Current state: scRNA-seq data, methods for d...  \n",
       "\n",
       "[147 rows x 2 columns]"
      ]
     },
     "execution_count": 165,
     "metadata": {},
     "output_type": "execute_result"
    }
   ],
   "source": [
    "DataFrame(completions).dropna()"
   ]
  },
  {
   "cell_type": "code",
   "execution_count": 137,
   "metadata": {
    "collapsed": false
   },
   "outputs": [
    {
     "name": "stdout",
     "output_type": "stream",
     "text": [
      "The challenges and opportunities of scRNA-seq in COVID-19 research and clinical translation.\n",
      "---\n",
      "The application of single-cell RNA sequencing in COVID-19 research has greatly improved our understanding of COVID-19 pathogenesis and immunological characteristics. In this commentary, we discuss the current challenges, limitations, and perspectives in harnessing the power of single-cell RNA sequencing to accelerate both basic research and therapeutic development for COVID-19 and other emerging infectious diseases.\n",
      "\n",
      "Single-cell CRISPR immune screens reveal immunological roles of tumor intrinsic factors.\n",
      "---\n",
      "Genetic screens are widely exploited to develop novel therapeutic approaches for cancer treatment. With recent advances in single-cell technology, single-cell CRISPR screen (scCRISPR) platforms provide opportunities for target validation and mechanistic studies in a high-throughput manner. Here, we aim to establish scCRISPR platforms which are suitable for immune-related screens involving multiple cell types. We integrated two scCRISPR platforms, namely Perturb-seq and CROP-seq, with both \n",
      "\n",
      "RefTM: reference-guided topic modeling of single-cell chromatin accessibility data.\n",
      "---\n",
      "Single-cell analysis is a valuable approach for dissecting the cellular heterogeneity, and single-cell chromatin accessibility sequencing (scCAS) can profile the epigenetic landscapes for thousands of individual cells. It is challenging to analyze scCAS data, because of its high dimensionality and a higher degree of sparsity compared with scRNA-seq data. Topic modeling in single-cell data analysis can lead to robust identification of the cell types and it can provide insight into the regulatory mechanisms. Reference-guided approach may facilitate the analysis of scCAS data by utilizing the information in existing datasets. We present RefTM (Reference-guided Topic Modeling of single-cell chromatin accessibility data), which not only utilizes the information in existing bulk chromatin accessibility and annotated scCAS data, but also takes advantage of topic models for single-cell data analysis. RefTM simultaneously models: (1) the shared biological variation among reference data and the target scCAS data; (2) the unique biological variation in scCAS data; (3) other variations from known covariates in scCAS data.\n",
      "\n",
      "scWECTA: A weighted ensemble classification framework for cell type assignment based on single cell transcriptome.\n",
      "---\n",
      "Rapid advances in single-cell transcriptome analysis provide deeper insights into the study of tissue heterogeneity at the cellular level. Unsupervised clustering can identify potential cell populations in single-cell RNA-sequencing (scRNA-seq) data, but fail to further determine the identity of each cell. Existing automatic annotation methods using scRNA-seq data based on machine learning mainly use single feature set and single classifier. In view of this, we propose a Weighted Ensemble classification framework for Cell Type Annotation, named scWECTA, which improves the accuracy of cell type identification. scWECTA uses five informative gene sets and integrates five classifiers based on soft weighted ensemble framework. And the ensemble weights are inferred through the constrained non-negative least squares. Validated on multiple pairs of scRNA-seq datasets, scWECTA is able to accurately annotate scRNA-seq data across platforms and across tissues, especially for imbalanced data containing rare cell types. Moreover, scWECTA outperforms other comparable methods in balancing the prediction accuracy of common cell types and the unassigned rate of non-common cell types at the same time. The source code of scWECTA is freely available at https://github.com/ttren-sc/scWECTA.\n",
      "\n",
      "Development of a Cancer-Associated Fibroblast-Related Prognostic Model in Breast Cancer via Bulk and Single-Cell RNA Sequencing.\n",
      "---\n",
      "The most numerous cells in the tumor microenvironment, cancer-associated fibroblasts (CAFs) play a crucial role in cancer development. Our objective was to develop a cancer-associated fibroblast breast cancer predictive model.\n",
      "We acquire breast cancer (BC) scRNA-seq data from Gene Expression Omnibus (GEO), and \"Seurat\" was used for data processing, including quality control, filtering, principal component analysis, and t-SNE. Afterward, \"singleR\" software was used to annotate cells. Seurat's \"FindAllMarkers\" program is used to locate particular CAF markers. clusterProfiler was used to analyze Gene Ontology (GO) and Kyoto Encyclopedia of Genes and Genomes (KEGG) pathway enrichment. The Cancer Genome Atlas (TCGA) database was utilized to provide univariate Cox regression, least absolute shrinkage operator (LASSO) analysis using bulk RNA-seq data. For model development, multivariate Cox regression studies are used. Utilizing pRRophetic and Tumor Immune Dysfunction and Exclusion (TIDE) algorithms, chemosensitivity and immunotherapy response were predicted. The \"rms\" software was used to facilitate and simplify modeling.\n",
      "Integrating the scRNA-seq (GSE176078) dataset yielded 28 cell clusters. In addition, well-known cell types helped identify 12 cell types. We found 193 marker genes that are elevated in CAFs. In addition, a five-gene predictive model associated to CAF was created in the training set. In the training set, the validation set, and the external validation set, greater risk scores were associated with a worse prognosis. And individuals with a higher risk score were more susceptible to immunotherapy and conventional chemotherapy medicines.\n",
      "In conclusion, we establish a strong prognostic model comprised of 5 genes related with CAF that might serve as a potent prognostic indicator and aid clinicians in making more rational medication choices.\n",
      "\n",
      "scCapsNet-mask: an updated version of scCapsNet with extended applicability in functional analysis related to scRNA-seq data.\n",
      "---\n",
      "With the rapid accumulation of scRNA-seq data, more and more automatic cell type identification methods have been developed, especially those based on deep learning. Although these methods have reached relatively high prediction accuracy, many issues still exist. One is the interpretability. The second is how to deal with the non-standard test samples that are not encountered in the training process.\n",
      "Here we introduce scCapsNet-mask, an updated version of scCapsNet. The scCapsNet-mask provides a reasonable solution to the issues of interpretability and non-standard test samples. Firstly, the scCapsNet-mask utilizes a mask to ease the task of model interpretation in the original scCapsNet. The results show that scCapsNet-mask could constrain the coupling coefficients, and make a one-to-one correspondence between the primary capsules and type capsules. Secondly, the scCapsNet-mask can process non-standard samples more reasonably. In one example, the scCapsNet-mask was trained on the committed cells, and then tested on less differentiated cells as the non-standard samples. It could not only estimate the lineage bias of less differentiated cells, but also distinguish the development stages more accurately than traditional machine learning models. Therefore, the pseudo-temporal order of cells for each lineage could be established. Following these pseudo-temporal order, lineage specific genes exhibit a gradual increase expression pattern and stem cell associated genes exhibit a gradual decrease expression pattern. In another example, the scCapsNet-mask was trained on scRNA-seq data, and then used to assign cell type in spatial transcriptomics that may contain non-standard sample of doublets. The results show that the scCapsNet-mask not only restored the spatial map but also identified several non-standard samples of doublet.\n",
      "The scCapsNet-mask offers a suitable solution to the challenge of interpretability and non-standard test samples. By adding a mask, it has the advantages of automatic processing and easy interpretation compared with the original scCapsNet. In addition, the scCapsNet-mask could more accurately reflect the composition of non-standard test samples than traditional machine learning methods. Therefore, it can extend its applicability in functional analysis, such as fate bias prediction in less differentiated cells and cell type assignment in spatial transcriptomics.\n",
      "\n",
      "Deep transfer learning enables lesion tracing of circulating tumor cells.\n",
      "---\n",
      "Liquid biopsy offers great promise for noninvasive cancer diagnostics, while the lack of adequate target characterization and analysis hinders its wide application. Single-cell RNA sequencing (scRNA-seq) is a powerful technology for cell characterization. Integrating scRNA-seq into a CTC-focused liquid biopsy study can perhaps classify CTCs by their original lesions. However, the lack of CTC scRNA-seq data accumulation and prior knowledge hinders further development. Therefore, we design CTC-Tracer, a transfer learning-based algorithm, to correct the distributional shift between primary cancer cells and CTCs to transfer lesion labels from the primary cancer cell atlas to CTCs. The robustness and accuracy of CTC-Tracer are validated by 8 individual standard datasets. We apply CTC-Tracer on a complex dataset consisting of RNA-seq profiles of single CTCs, CTC clusters from a BRCA patient, and two xenografts, and demonstrate that CTC-Tracer has potential in knowledge transfer between different types of RNA-seq data of lesions and CTCs.\n",
      "\n",
      "Quality assessment and refinement of chromatin accessibility data using a sequence-based predictive model.\n",
      "---\n",
      "Chromatin accessibility assays are central to the genome-wide identification of gene regulatory elements associated with transcriptional regulation. However, the data have highly variable quality arising from several biological and technical factors. To surmount this problem, we developed a sequence-based machine learning method to evaluate and refine chromatin accessibility data. Our framework, gapped k-mer SVM quality check (gkmQC), provides the quality metrics for a sample based on the prediction accuracy of the trained models. We tested 886 DNase-seq samples from the ENCODE/Roadmap projects to demonstrate that gkmQC can effectively identify \"high-quality\" (HQ) samples with low conventional quality scores owing to marginal read depths. Peaks identified in HQ samples are more accurately aligned at functional regulatory elements, show greater enrichment of regulatory elements harboring functional variants, and explain greater heritability of phenotypes from their relevant tissues. Moreover, gkmQC can optimize the peak-calling threshold to identify additional peaks, especially for rare cell types in single-cell chromatin accessibility data.\n",
      "\n",
      "Correlated gene modules uncovered by high-precision single-cell transcriptomics.\n",
      "---\n",
      "Correlations in gene expression are used to infer functional and regulatory relationships between genes. However, correlations are often calculated across different cell types or perturbations, causing genes with unrelated functions to be correlated. Here, we demonstrate that correlated modules can be better captured by measuring correlations of steady-state gene expression fluctuations in single cells. We report a high-precision single-cell RNA-seq method called MALBAC-DT to measure the correlation between any pair of genes in a homogenous cell population. Using this method, we were able to identify numerous cell-type specific and functionally enriched correlated gene modules. We confirmed through knockdown that a module enriched for p53 signaling predicted p53 regulatory targets more accurately than a consensus of ChIP-seq studies and that steady-state correlations were predictive of transcriptome-wide response patterns to perturbations. This approach provides a powerful way to advance our functional understanding of the genome.\n",
      "\n",
      "A machine learning framework for scRNA-seq UMI threshold optimization and accurate classification of cell types.\n",
      "---\n",
      "Recent advances in single cell RNA sequencing (scRNA-seq) technologies have been invaluable in the study of the diversity of cancer cells and the tumor microenvironment. While scRNA-seq platforms allow processing of a high number of cells, uneven read quality and technical artifacts hinder the ability to identify and classify biologically relevant cells into correct subtypes. This obstructs the analysis of cancer and normal cell diversity, while rare and low expression cell populations may be lost by setting arbitrary high cutoffs for UMIs when filtering out low quality cells. To address these issues, we have developed a novel machine-learning framework that: 1. Trains cell lineage and subtype classifier using a gold standard dataset validated using marker genes 2. Systematically assess the lowest UMI threshold that can be used in a given dataset to accurately classify cells 3. Assign accurate cell lineage and subtype labels to the lower read depth cells recovered by setting the optimal threshold. We demonstrate the application of this framework in a well-curated scRNA-seq dataset of breast cancer patients and two external datasets. We show that the minimum UMI threshold for the breast cancer dataset could be lowered from the original 1500 to 450, thereby increasing the total number of recovered cells by 49%, while achieving a classification accuracy of >0.9. Our framework provides a roadmap for future scRNA-seq studies to determine optimal UMI threshold and accurately classify cells for downstream analyses.\n",
      "\n",
      "Applications of single-cell RNA sequencing in atopic dermatitis and psoriasis.\n",
      "---\n",
      "Single-cell RNA sequencing (scRNA-seq) is a novel technology that characterizes molecular heterogeneity at the single-cell level. With the development of more automated, sensitive, and cost-effective single-cell isolation methods, the sensitivity and efficiency of scRNA-seq have improved. Technological advances in single-cell analysis provide a deeper understanding of the biological diversity of cells present in tissues, including inflamed skin. New subsets of cells have been discovered among common inflammatory skin diseases, such as atopic dermatitis (AD) and psoriasis. ScRNA-seq technology has also been used to analyze immune cell distribution and cell-cell communication, shedding new light on the complex interplay of components involved in disease responses. Moreover, scRNA-seq may be a promising tool in precision medicine because of its ability to define cell subsets with potential treatment targets and to characterize cell-specific responses to drugs or other stimuli. In this review, we briefly summarize the progress in the development of scRNA-seq technologies and discuss the latest scRNA-seq-related findings and future trends in AD and psoriasis. We also discuss the limitations and technical problems associated with current scRNA-seq technology.\n",
      "\n",
      "Estimating Metastatic Risk of Pancreatic Ductal Adenocarcinoma at Single-Cell Resolution.\n",
      "---\n",
      "Pancreatic ductal adenocarcinoma (PDAC) is characterized by intra-tumoral heterogeneity, and patients are always diagnosed after metastasis. Thus, finding out how to effectively estimate metastatic risk underlying PDAC is necessary. In this study, we proposed scMetR to evaluate the metastatic risk of tumor cells based on single-cell RNA sequencing (scRNA-seq) data. First, we identified diverse cell types, including tumor cells and other cell types. Next, we grouped tumor cells into three sub-populations according to scMetR score, including metastasis-featuring tumor cells (MFTC), transitional metastatic tumor cells (TransMTC), and conventional tumor cells (ConvTC). We identified metastatic signature genes (MSGs) through comparing MFTC and ConvTC. Functional enrichment analysis showed that up-regulated MSGs were enriched in multiple metastasis-associated pathways. We also found that patients with high expression of up-regulated MSGs had worse prognosis. Spatial mapping of MFTC showed that they are preferentially located in the cancer and duct epithelium region, which was enriched with the ductal cells' associated inflammation. Further, we inferred cell-cell interactions, and observed that interactions of the ADGRE5 signaling pathway, which is associated with metastasis, were increased in MFTC compared to other tumor sub-populations. Finally, we predicted 12 candidate drugs that had the potential to reverse expression of MSGs. Taken together, we have proposed scMetR to estimate metastatic risk in PDAC patients at single-cell resolution which might facilitate the dissection of tumor heterogeneity.\n",
      "\n",
      "Spatial-ID: a cell typing method for spatially resolved transcriptomics via transfer learning and spatial embedding.\n",
      "---\n",
      "Spatially resolved transcriptomics provides the opportunity to investigate the gene expression profiles and the spatial context of cells in naive state, but at low transcript detection sensitivity or with limited gene throughput. Comprehensive annotating of cell types in spatially resolved transcriptomics to understand biological processes at the single cell level remains challenging. Here we propose Spatial-ID, a supervision-based cell typing method, that combines the existing knowledge of reference single-cell RNA-seq data and the spatial information of spatially resolved transcriptomics data. We present a series of benchmarking analyses on publicly available spatially resolved transcriptomics datasets, that demonstrate the superiority of Spatial-ID compared with state-of-the-art methods. Besides, we apply Spatial-ID on a self-collected mouse brain hemisphere dataset measured by Stereo-seq, that shows the scalability of Spatial-ID to three-dimensional large field tissues with subcellular spatial resolution.\n",
      "\n",
      "Practical Considerations for Complex Tissue Dissociation for Single-Cell Transcriptomics.\n",
      "---\n",
      "Single-cell and single-nucleus RNA sequencing have revolutionized biomedical research, allowing analysis of complex tissues, identification of novel cell types, and mapping of development as well as disease states. Successful application of this technology critically relies on the dissociation of solid organs and tissues into high-quality single-cell (or nuclei) suspensions.In this chapter, we examine several key aspects of the tissue handling workflow that need to be considered when establishing an efficient tissue processing protocol for single-cell RNA sequencing (scRNA-seq). These include tissue collection, transport, and storage, as well as the choice of the dissociation conditions. We emphasize the importance of the tissue quality check and discuss the advantages (and potential limitations) of tissue cryopreservation. We provide practical tips and considerations on each of the steps of the processing workflow, and comment on how to maximize cell viability and integrity, which are critical for obtaining high-quality single-cell transcriptomic data.\n",
      "\n",
      "Bringing Cell Subpopulation Discovery on a Cloud-HPC Using rCASC and StreamFlow.\n",
      "---\n",
      "The idea behind novel single-cell RNA sequencing (scRNA-seq) pipelines is to isolate single cells through microfluidic approaches and generate sequencing libraries in which the transcripts are tagged to track their cell of origin. Modern scRNA-seq platforms are capable of analyzing up to many thousands of cells in each run. Then, combined with massive high-throughput sequencing producing billions of reads, scRNA-seq allows the assessment of fundamental biological properties of cell populations and biological systems at unprecedented resolution.In this chapter, we describe how cell subpopulation discovery algorithms, integrated into rCASC, could be efficiently executed on cloud-HPC infrastructure. To achieve this task, we focus on the StreamFlow framework which provides container-native runtime support for scientific workflows in cloud/HPC environments.\n",
      "\n",
      "Using \"Galaxy-rCASC\": A Public Galaxy Instance for Single-Cell RNA-Seq Data Analysis.\n",
      "---\n",
      "rCASC is a modular workflow providing an integrated environment for single-cell RNA-seq (scRNA-Seq) data analysis exploiting Docker containers to achieve functional and computational reproducibility. It was initially developed as an R package usable also through a Java GUI. However, the Java frontend cannot be employed when running rCASC on a remote server, a typical setup due to the significant computational resources commonly needed to analyze scRNA-Seq data.To allow the use of rCASC through a graphical user interface on the client side and to harness the many advantages provided by the Galaxy platform, we have made rCASC available as a Galaxy set of tools, also providing a dedicated public instance of Galaxy named \"Galaxy-rCASC.\" To integrate rCASC into Galaxy, all its functions, originally implemented as a set of Docker containers to maximize reproducibility, have been extensively reworked to become independent from the R package functions that launch them in the original implementation. Furthermore, suitable Galaxy wrappers have been developed for most functions of rCASC. We provide a detailed reference document to the use of Galaxy-rCASC with insights and explanations on the platform functionalities, parameters, and output while guiding the reader through the typical rCASC analysis workflow of a scRNA-Seq dataset.\n",
      "\n",
      "Integration of scATAC-Seq with scRNA-Seq Data.\n",
      "---\n",
      "Single-cell studies are enabling our understanding of the molecular processes of normal cell development and the onset of several pathologies. For instance, single-cell RNA sequencing (scRNA-Seq) measures the transcriptome-wide gene expression at a single-cell resolution, allowing for studying the heterogeneity among the cells of the same population and revealing complex and rare cell populations. On the other hand, single-cell Assay for Transposase-Accessible Chromatin using sequencing (scATAC-Seq) can be used to define transcriptional and epigenetic changes by analyzing the chromatin accessibility at the single-cell level. However, the integration of multi-omics data still remains one of the most difficult tasks in bioinformatics. In this chapter, we focus on the combination of scRNA-Seq and scATACSeq data to perform an integrative analysis of the single-cell transcriptome and chromatin accessibility of human fetal progenitors.\n",
      "\n",
      "A Guide to Trajectory Inference and RNA Velocity.\n",
      "---\n",
      "Technological developments have led to an explosion of high-throughput single-cell data, which are revealing unprecedented perspectives on cell identity. Recently, significant attention has focused on investigating, from single-cell RNA-sequencing (scRNA-seq) data, cellular dynamic processes, such as cell differentiation, cell cycle and cell (de)activation. In particular, trajectory inference methods, by ordering cells along a trajectory, allow estimating a differentiation tree of cells. While trajectory inference tools typically work with gene expression levels, common scRNA-seq protocols allow the identification and quantification of unspliced pre-mRNAs and mature spliced mRNAs for each gene. By exploiting the abundance of unspliced and spliced mRNA, one can infer the RNA velocity of individual cells, i.e., the time derivative of the gene expression state of cells. Whereas traditional trajectory inference methods reconstruct cellular dynamics given a population of cells of varying maturity, RNA velocity relies on a dynamical model describing splicing dynamics. Here, we initially discuss conceptual and theoretical aspects of both approaches, then illustrate how they can be combined together, and finally present an example use case on real data.\n",
      "\n",
      "Identifying Gene Markers Associated with Cell Subpopulations.\n",
      "---\n",
      "An important point of the analysis of a single-cell RNA experiment is the identification of the key elements, i.e., genes, characterizing each cell subpopulation cluster. In this chapter, we describe the use of sparsely connected autoencoder, as a tool to convert single-cell clusters in pseudo-RNAseq experiments to be used as input for differential expression analysis, and the use of COMET, as a tool to depict cluster-specific gene markers.\n",
      "\n",
      "Single-Cell RNAseq Clustering.\n",
      "---\n",
      "Single-cell RNA sequencing (scRNA-seq) allows the creation of large collections of individual cells transcriptome. Unsupervised clustering is an essential element for the analysis of these data, and it represents the initial step for the identification of different cell types to investigate the cell subpopulation organization of a sample. In this chapter, we describe how to approach the clustering of single-cell RNAseq transcriptomics data using various clustering tools, and we provide some information on the limitations affecting the clustering procedure.\n",
      "\n"
     ]
    }
   ],
   "source": [
    "for i in range(20):\n",
    "    print(comp_df_full.title.values[i])\n",
    "    print(\"---\")\n",
    "    print(comp_df_full.abstract.values[i])\n",
    "    print()"
   ]
  }
 ],
 "metadata": {
  "kernelspec": {
   "display_name": "GPTAreaOverview",
   "language": "python",
   "name": "gptareaoverview"
  },
  "language_info": {
   "codemirror_mode": {
    "name": "ipython",
    "version": 3
   },
   "file_extension": ".py",
   "mimetype": "text/x-python",
   "name": "python",
   "nbconvert_exporter": "python",
   "pygments_lexer": "ipython3",
   "version": "3.8.15"
  }
 },
 "nbformat": 4,
 "nbformat_minor": 0
}
