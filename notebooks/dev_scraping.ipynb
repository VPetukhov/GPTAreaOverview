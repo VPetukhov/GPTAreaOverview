{
 "cells": [
  {
   "cell_type": "code",
   "execution_count": 1,
   "metadata": {
    "collapsed": true
   },
   "outputs": [],
   "source": [
    "%load_ext autoreload\n",
    "%autoreload 2\n",
    "\n",
    "import sys\n",
    "sys.path.append(\"../src\")\n",
    "\n",
    "from tqdm.notebook import tqdm\n",
    "import pymed\n",
    "from pymed import PubMed\n",
    "import time\n",
    "\n",
    "# from scrape import scrape_s2"
   ]
  },
  {
   "cell_type": "markdown",
   "source": [
    "## Scrape PubMed"
   ],
   "metadata": {
    "collapsed": false
   }
  },
  {
   "cell_type": "code",
   "execution_count": 2,
   "outputs": [],
   "source": [
    "pubmed = PubMed(tool=\"GPTAreaOverview\", email=\"vp988+pubmed@pm.me\")"
   ],
   "metadata": {
    "collapsed": false
   }
  },
  {
   "cell_type": "code",
   "execution_count": 34,
   "outputs": [],
   "source": [
    "max_results = 9999\n",
    "article_ids = pubmed._getArticleIds(\"scRNA-seq\", max_results=max_results)"
   ],
   "metadata": {
    "collapsed": false
   }
  },
  {
   "cell_type": "code",
   "execution_count": 51,
   "outputs": [
    {
     "data": {
      "text/plain": "  0%|          | 0/39 [00:00<?, ?it/s]",
      "application/vnd.jupyter.widget-view+json": {
       "version_major": 2,
       "version_minor": 0,
       "model_id": "5a20832a487c4e05b837f2c4cbfa2591"
      }
     },
     "metadata": {},
     "output_type": "display_data"
    },
    {
     "name": "stdout",
     "output_type": "stream",
     "text": [
      "Error in request:  (\"Connection broken: InvalidChunkLength(got length b'', 0 bytes read)\", InvalidChunkLength(got length b'', 0 bytes read))  ; retrying...\n",
      "Ignoring one query...\n"
     ]
    }
   ],
   "source": [
    "step = 250\n",
    "all_arts = []\n",
    "for aids in tqdm(pymed.helpers.batches(article_ids, step), total=(max_results // step)):\n",
    "    for _ in range(5):\n",
    "        try:\n",
    "            arts = list(pubmed._getArticles(aids))\n",
    "            all_arts.extend(arts)\n",
    "            break\n",
    "        except Exception as e:\n",
    "            print(\"Error in request: \", e, ' ; retrying...')\n",
    "            time.sleep(5)\n",
    "    print('Ignoring one query...')"
   ],
   "metadata": {
    "collapsed": false
   }
  },
  {
   "cell_type": "code",
   "execution_count": 73,
   "outputs": [],
   "source": [
    "import pandas as pd\n",
    "from pandas import DataFrame, Series\n",
    "import json"
   ],
   "metadata": {
    "collapsed": false
   }
  },
  {
   "cell_type": "code",
   "execution_count": 88,
   "outputs": [],
   "source": [
    "rem_columns = ['xml', 'isbn', 'language', 'publication_type', 'publisher', 'publisher_location', 'sections']\n",
    "art_df = DataFrame([json.loads(a.toJSON()) for a in all_arts]).drop(columns=rem_columns)\n",
    "art_df.to_parquet(\"../data/scrna_seq.pq\")"
   ],
   "metadata": {
    "collapsed": false
   }
  },
  {
   "cell_type": "markdown",
   "source": [
    "## Get vector info from OpenAI"
   ],
   "metadata": {
    "collapsed": false
   }
  },
  {
   "cell_type": "code",
   "execution_count": 144,
   "outputs": [],
   "source": [
    "import openai\n",
    "import numpy as np\n",
    "\n",
    "import os\n",
    "from time import sleep\n",
    "from dotenv import load_dotenv\n",
    "load_dotenv()\n",
    "\n",
    "openai.api_key = os.getenv(\"OPENAI_API_KEY\")"
   ],
   "metadata": {
    "collapsed": false
   }
  },
  {
   "cell_type": "code",
   "execution_count": 103,
   "outputs": [],
   "source": [
    "art_df = art_df[~art_df.abstract.isna()]\n",
    "art_df = art_df[art_df.abstract.map(str.strip).map(len) > 10]"
   ],
   "metadata": {
    "collapsed": false
   }
  },
  {
   "cell_type": "code",
   "execution_count": 147,
   "outputs": [
    {
     "data": {
      "text/plain": "  0%|          | 0/9653 [00:00<?, ?it/s]",
      "application/vnd.jupyter.widget-view+json": {
       "version_major": 2,
       "version_minor": 0,
       "model_id": "ab9d4489116e4b539f730c97ea4167b8"
      }
     },
     "metadata": {},
     "output_type": "display_data"
    },
    {
     "name": "stdout",
     "output_type": "stream",
     "text": [
      "Error in request:  This model's maximum context length is 8191 tokens, however you requested 18682 tokens (18682 in your prompt; 0 for the completion). Please reduce your prompt; or completion length.\n",
      "Error in request:  This model's maximum context length is 8191 tokens, however you requested 18682 tokens (18682 in your prompt; 0 for the completion). Please reduce your prompt; or completion length.\n",
      "Error in request:  This model's maximum context length is 8191 tokens, however you requested 18682 tokens (18682 in your prompt; 0 for the completion). Please reduce your prompt; or completion length.\n",
      "Error in request:  The server experienced an error while processing your request. Sorry about that! You can retry your request, or contact us through our help center at help.openai.com if the error persists. {\n",
      "  \"error\": {\n",
      "    \"message\": \"The server experienced an error while processing your request. Sorry about that! You can retry your request, or contact us through our help center at help.openai.com if the error persists.\",\n",
      "    \"type\": \"server_error\",\n",
      "    \"param\": null,\n",
      "    \"code\": null\n",
      "  }\n",
      "}\n",
      " 500 {'error': {'message': 'The server experienced an error while processing your request. Sorry about that! You can retry your request, or contact us through our help center at help.openai.com if the error persists.', 'type': 'server_error', 'param': None, 'code': None}} {'Date': 'Fri, 16 Dec 2022 13:13:13 GMT', 'Content-Type': 'application/json', 'Content-Length': '292', 'Connection': 'keep-alive', 'Access-Control-Allow-Origin': '*', 'Openai-Organization': 'user-3czcab8uuat4cucxcmgid4ai', 'Openai-Processing-Ms': '10006', 'Openai-Version': '2020-10-01', 'Strict-Transport-Security': 'max-age=15724800; includeSubDomains', 'X-Request-Id': '02003f3c4ce65896939efaf75591f493'}\n",
      "Error in request:  The server had an error while processing your request. Sorry about that! You can retry your request, or contact us through our help center at help.openai.com if the error persists. (Please include the request ID 11276824ffacd29bc051b5bdbefdf38c in your message.) {\n",
      "  \"error\": {\n",
      "    \"message\": \"The server had an error while processing your request. Sorry about that! You can retry your request, or contact us through our help center at help.openai.com if the error persists. (Please include the request ID 11276824ffacd29bc051b5bdbefdf38c in your message.)\",\n",
      "    \"type\": \"server_error\",\n",
      "    \"param\": null,\n",
      "    \"code\": null\n",
      "  }\n",
      "}\n",
      " 500 {'error': {'message': 'The server had an error while processing your request. Sorry about that! You can retry your request, or contact us through our help center at help.openai.com if the error persists. (Please include the request ID 11276824ffacd29bc051b5bdbefdf38c in your message.)', 'type': 'server_error', 'param': None, 'code': None}} {'Date': 'Fri, 16 Dec 2022 13:14:15 GMT', 'Content-Type': 'application/json', 'Content-Length': '366', 'Connection': 'keep-alive', 'Access-Control-Allow-Origin': '*', 'Openai-Organization': 'user-3czcab8uuat4cucxcmgid4ai', 'Openai-Processing-Ms': '30007', 'Openai-Version': '2020-10-01', 'Strict-Transport-Security': 'max-age=15724800; includeSubDomains', 'X-Request-Id': '11276824ffacd29bc051b5bdbefdf38c'}\n"
     ]
    }
   ],
   "source": [
    "embs = []\n",
    "total_tokens = 0\n",
    "pbar = tqdm(art_df.title + \"\\n\" + art_df.abstract)\n",
    "for text in pbar:\n",
    "    pbar.set_description(f\"Total tokens: {total_tokens}, price: ${total_tokens * 0.0004 / 1000:0.3g}\")\n",
    "    fail = True\n",
    "    for _ in range(3):\n",
    "        try:\n",
    "            response = openai.Embedding.create(input=text, model=\"text-embedding-ada-002\")\n",
    "            total_tokens += response[\"usage\"][\"total_tokens\"]\n",
    "            embs.append(response['data'][0]['embedding'])\n",
    "            fail = False\n",
    "            break\n",
    "        except Exception as e:\n",
    "            print(\"Error in request: \", e)\n",
    "            sleep(3)\n",
    "    if fail:\n",
    "        embs.append(None)"
   ],
   "metadata": {
    "collapsed": false
   }
  },
  {
   "cell_type": "code",
   "execution_count": 174,
   "outputs": [],
   "source": [
    "last_none = False\n",
    "embs_filt = []\n",
    "for e in embs:\n",
    "    if e is None:\n",
    "        if last_none:\n",
    "            embs_filt.append(e)\n",
    "        last_none = True\n",
    "    else:\n",
    "        embs_filt.append(e)\n",
    "        last_none = False"
   ],
   "metadata": {
    "collapsed": false
   }
  },
  {
   "cell_type": "code",
   "execution_count": 176,
   "outputs": [],
   "source": [
    "art_df[\"embedding\"] = embs_filt"
   ],
   "metadata": {
    "collapsed": false
   }
  },
  {
   "cell_type": "code",
   "execution_count": 181,
   "outputs": [],
   "source": [
    "art_df.to_parquet(\"../data/scrna_seq_with_embs.pq\")"
   ],
   "metadata": {
    "collapsed": false
   }
  },
  {
   "cell_type": "markdown",
   "source": [
    "Save for annotation:"
   ],
   "metadata": {
    "collapsed": false
   }
  },
  {
   "cell_type": "code",
   "execution_count": 194,
   "outputs": [],
   "source": [
    "label_df = DataFrame({'text': art_df.title + \"\\n\" + art_df.abstract.values, 'embedding': art_df.embedding})\n",
    "with open(\"../data/train_embeddings.json\", \"w\") as f:\n",
    "    print(label_df.to_json(orient='records'), file=f)"
   ],
   "metadata": {
    "collapsed": false
   }
  }
 ],
 "metadata": {
  "kernelspec": {
   "name": "gptareaoverview",
   "language": "python",
   "display_name": "GPTAreaOverview"
  },
  "language_info": {
   "codemirror_mode": {
    "name": "ipython",
    "version": 2
   },
   "file_extension": ".py",
   "mimetype": "text/x-python",
   "name": "python",
   "nbconvert_exporter": "python",
   "pygments_lexer": "ipython2",
   "version": "2.7.6"
  }
 },
 "nbformat": 4,
 "nbformat_minor": 0
}
