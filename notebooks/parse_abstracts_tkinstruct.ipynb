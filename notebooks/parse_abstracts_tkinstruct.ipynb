{
 "cells": [
  {
   "cell_type": "code",
   "execution_count": null,
   "metadata": {},
   "outputs": [],
   "source": [
    "from transformers import AutoTokenizer, AutoModelForSeq2SeqLM\n",
    "\n",
    "model_card = \"allenai/tk-instruct-large-def-pos\"\n",
    "\n",
    "tokenizer = AutoTokenizer.from_pretrained(model_card)\n",
    "model = AutoModelForSeq2SeqLM.from_pretrained(model_card)\n",
    "\n",
    "input_ids = tokenizer.encode(\n",
    "    \"Definition: return the currency of the given country. Now complete the following example - Input: India. Output:\", \n",
    "    return_tensors=\"pt\"\n",
    ")\n",
    "output = model.generate(input_ids, max_length=10)\n",
    "output = tokenizer.decode(output[0], skip_special_tokens=True)   # model should output 'Indian Rupee'"
   ]
  }
 ],
 "metadata": {
  "language_info": {
   "name": "python"
  },
  "orig_nbformat": 4
 },
 "nbformat": 4,
 "nbformat_minor": 2
}
